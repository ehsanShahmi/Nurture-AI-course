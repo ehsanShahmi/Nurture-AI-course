{
 "cells": [
  {
   "cell_type": "code",
   "execution_count": 10,
   "metadata": {},
   "outputs": [
    {
     "name": "stderr",
     "output_type": "stream",
     "text": [
      "C:\\Users\\user\\Anaconda3\\lib\\site-packages\\gensim\\utils.py:1197: UserWarning: detected Windows; aliasing chunkize to chunkize_serial\n",
      "  warnings.warn(\"detected Windows; aliasing chunkize to chunkize_serial\")\n"
     ]
    }
   ],
   "source": [
    "import pandas as pd\n",
    "import spacy\n",
    "import pickle\n",
    "from tqdm import tqdm\n",
    "from gensim.corpora import Dictionary\n",
    "from sklearn.utils import shuffle\n",
    "from collections import defaultdict\n",
    "import numpy as np"
   ]
  },
  {
   "cell_type": "code",
   "execution_count": 2,
   "metadata": {
    "collapsed": true
   },
   "outputs": [],
   "source": [
    "df = pd.read_csv('WikiQACorpus/WikiQA-train.tsv', sep='\\t')"
   ]
  },
  {
   "cell_type": "code",
   "execution_count": 4,
   "metadata": {},
   "outputs": [
    {
     "data": {
      "text/html": [
       "<div>\n",
       "<style>\n",
       "    .dataframe thead tr:only-child th {\n",
       "        text-align: right;\n",
       "    }\n",
       "\n",
       "    .dataframe thead th {\n",
       "        text-align: left;\n",
       "    }\n",
       "\n",
       "    .dataframe tbody tr th {\n",
       "        vertical-align: top;\n",
       "    }\n",
       "</style>\n",
       "<table border=\"1\" class=\"dataframe\">\n",
       "  <thead>\n",
       "    <tr style=\"text-align: right;\">\n",
       "      <th></th>\n",
       "      <th>QuestionID</th>\n",
       "      <th>Question</th>\n",
       "      <th>DocumentID</th>\n",
       "      <th>DocumentTitle</th>\n",
       "      <th>SentenceID</th>\n",
       "      <th>Sentence</th>\n",
       "      <th>Label</th>\n",
       "    </tr>\n",
       "  </thead>\n",
       "  <tbody>\n",
       "    <tr>\n",
       "      <th>0</th>\n",
       "      <td>Q1</td>\n",
       "      <td>how are glacier caves formed?</td>\n",
       "      <td>D1</td>\n",
       "      <td>Glacier cave</td>\n",
       "      <td>D1-0</td>\n",
       "      <td>A partly submerged glacier cave on Perito More...</td>\n",
       "      <td>0</td>\n",
       "    </tr>\n",
       "    <tr>\n",
       "      <th>1</th>\n",
       "      <td>Q1</td>\n",
       "      <td>how are glacier caves formed?</td>\n",
       "      <td>D1</td>\n",
       "      <td>Glacier cave</td>\n",
       "      <td>D1-1</td>\n",
       "      <td>The ice facade is approximately 60 m high</td>\n",
       "      <td>0</td>\n",
       "    </tr>\n",
       "    <tr>\n",
       "      <th>2</th>\n",
       "      <td>Q1</td>\n",
       "      <td>how are glacier caves formed?</td>\n",
       "      <td>D1</td>\n",
       "      <td>Glacier cave</td>\n",
       "      <td>D1-2</td>\n",
       "      <td>Ice formations in the Titlis glacier cave</td>\n",
       "      <td>0</td>\n",
       "    </tr>\n",
       "    <tr>\n",
       "      <th>3</th>\n",
       "      <td>Q1</td>\n",
       "      <td>how are glacier caves formed?</td>\n",
       "      <td>D1</td>\n",
       "      <td>Glacier cave</td>\n",
       "      <td>D1-3</td>\n",
       "      <td>A glacier cave is a cave formed within the ice...</td>\n",
       "      <td>1</td>\n",
       "    </tr>\n",
       "    <tr>\n",
       "      <th>4</th>\n",
       "      <td>Q1</td>\n",
       "      <td>how are glacier caves formed?</td>\n",
       "      <td>D1</td>\n",
       "      <td>Glacier cave</td>\n",
       "      <td>D1-4</td>\n",
       "      <td>Glacier caves are often called ice caves , but...</td>\n",
       "      <td>0</td>\n",
       "    </tr>\n",
       "  </tbody>\n",
       "</table>\n",
       "</div>"
      ],
      "text/plain": [
       "  QuestionID                       Question DocumentID DocumentTitle  \\\n",
       "0         Q1  how are glacier caves formed?         D1  Glacier cave   \n",
       "1         Q1  how are glacier caves formed?         D1  Glacier cave   \n",
       "2         Q1  how are glacier caves formed?         D1  Glacier cave   \n",
       "3         Q1  how are glacier caves formed?         D1  Glacier cave   \n",
       "4         Q1  how are glacier caves formed?         D1  Glacier cave   \n",
       "\n",
       "  SentenceID                                           Sentence  Label  \n",
       "0       D1-0  A partly submerged glacier cave on Perito More...      0  \n",
       "1       D1-1          The ice facade is approximately 60 m high      0  \n",
       "2       D1-2          Ice formations in the Titlis glacier cave      0  \n",
       "3       D1-3  A glacier cave is a cave formed within the ice...      1  \n",
       "4       D1-4  Glacier caves are often called ice caves , but...      0  "
      ]
     },
     "execution_count": 4,
     "metadata": {},
     "output_type": "execute_result"
    }
   ],
   "source": [
    "df.head()"
   ]
  },
  {
   "cell_type": "code",
   "execution_count": 6,
   "metadata": {},
   "outputs": [
    {
     "data": {
      "text/html": [
       "<div>\n",
       "<style>\n",
       "    .dataframe thead tr:only-child th {\n",
       "        text-align: right;\n",
       "    }\n",
       "\n",
       "    .dataframe thead th {\n",
       "        text-align: left;\n",
       "    }\n",
       "\n",
       "    .dataframe tbody tr th {\n",
       "        vertical-align: top;\n",
       "    }\n",
       "</style>\n",
       "<table border=\"1\" class=\"dataframe\">\n",
       "  <thead>\n",
       "    <tr style=\"text-align: right;\">\n",
       "      <th></th>\n",
       "      <th>QuestionID</th>\n",
       "      <th>Question</th>\n",
       "      <th>DocumentID</th>\n",
       "      <th>DocumentTitle</th>\n",
       "      <th>SentenceID</th>\n",
       "      <th>Sentence</th>\n",
       "      <th>Label</th>\n",
       "    </tr>\n",
       "  </thead>\n",
       "  <tbody>\n",
       "    <tr>\n",
       "      <th>3</th>\n",
       "      <td>Q1</td>\n",
       "      <td>how are glacier caves formed?</td>\n",
       "      <td>D1</td>\n",
       "      <td>Glacier cave</td>\n",
       "      <td>D1-3</td>\n",
       "      <td>A glacier cave is a cave formed within the ice...</td>\n",
       "      <td>1</td>\n",
       "    </tr>\n",
       "    <tr>\n",
       "      <th>75</th>\n",
       "      <td>Q16</td>\n",
       "      <td>how much is 1 tablespoon of water</td>\n",
       "      <td>D16</td>\n",
       "      <td>Tablespoon</td>\n",
       "      <td>D16-0</td>\n",
       "      <td>This tablespoon has a capacity of about 15 mL.</td>\n",
       "      <td>1</td>\n",
       "    </tr>\n",
       "    <tr>\n",
       "      <th>83</th>\n",
       "      <td>Q16</td>\n",
       "      <td>how much is 1 tablespoon of water</td>\n",
       "      <td>D16</td>\n",
       "      <td>Tablespoon</td>\n",
       "      <td>D16-8</td>\n",
       "      <td>In the USA one tablespoon (measurement unit) i...</td>\n",
       "      <td>1</td>\n",
       "    </tr>\n",
       "    <tr>\n",
       "      <th>84</th>\n",
       "      <td>Q16</td>\n",
       "      <td>how much is 1 tablespoon of water</td>\n",
       "      <td>D16</td>\n",
       "      <td>Tablespoon</td>\n",
       "      <td>D16-9</td>\n",
       "      <td>In Australia one tablespoon (measurement unit)...</td>\n",
       "      <td>1</td>\n",
       "    </tr>\n",
       "    <tr>\n",
       "      <th>98</th>\n",
       "      <td>Q17</td>\n",
       "      <td>how much are the harry potter movies worth</td>\n",
       "      <td>D17</td>\n",
       "      <td>Harry Potter</td>\n",
       "      <td>D17-13</td>\n",
       "      <td>The series also originated much tie-in merchan...</td>\n",
       "      <td>1</td>\n",
       "    </tr>\n",
       "  </tbody>\n",
       "</table>\n",
       "</div>"
      ],
      "text/plain": [
       "   QuestionID                                    Question DocumentID  \\\n",
       "3          Q1               how are glacier caves formed?         D1   \n",
       "75        Q16           how much is 1 tablespoon of water        D16   \n",
       "83        Q16           how much is 1 tablespoon of water        D16   \n",
       "84        Q16           how much is 1 tablespoon of water        D16   \n",
       "98        Q17  how much are the harry potter movies worth        D17   \n",
       "\n",
       "   DocumentTitle SentenceID  \\\n",
       "3   Glacier cave       D1-3   \n",
       "75    Tablespoon      D16-0   \n",
       "83    Tablespoon      D16-8   \n",
       "84    Tablespoon      D16-9   \n",
       "98  Harry Potter     D17-13   \n",
       "\n",
       "                                             Sentence  Label  \n",
       "3   A glacier cave is a cave formed within the ice...      1  \n",
       "75     This tablespoon has a capacity of about 15 mL.      1  \n",
       "83  In the USA one tablespoon (measurement unit) i...      1  \n",
       "84  In Australia one tablespoon (measurement unit)...      1  \n",
       "98  The series also originated much tie-in merchan...      1  "
      ]
     },
     "execution_count": 6,
     "metadata": {},
     "output_type": "execute_result"
    }
   ],
   "source": [
    "# Loading only the answers, which r 1 as Labels.\n",
    "# Thus, then the actual answers are received for training\n",
    "df = df[df['Label'] == 1]\n",
    "df.head()"
   ]
  },
  {
   "cell_type": "code",
   "execution_count": 7,
   "metadata": {},
   "outputs": [
    {
     "data": {
      "text/plain": [
       "1039"
      ]
     },
     "execution_count": 7,
     "metadata": {},
     "output_type": "execute_result"
    }
   ],
   "source": [
    "len(df)"
   ]
  },
  {
   "cell_type": "code",
   "execution_count": 41,
   "metadata": {},
   "outputs": [
    {
     "data": {
      "text/plain": [
       "(1039, 1039)"
      ]
     },
     "execution_count": 41,
     "metadata": {},
     "output_type": "execute_result"
    }
   ],
   "source": [
    "inputt = df['Question']\n",
    "target = df['Sentence']\n",
    "len(inputt), len(target)"
   ]
  },
  {
   "cell_type": "code",
   "execution_count": 33,
   "metadata": {
    "collapsed": true
   },
   "outputs": [],
   "source": [
    "wordlist_x = set()\n",
    "wordlist_y = set()"
   ]
  },
  {
   "cell_type": "code",
   "execution_count": 42,
   "metadata": {},
   "outputs": [],
   "source": [
    "for sentence in inputt:\n",
    "    for word in sentence.strip().split():\n",
    "        wordlist_x.add(word)\n",
    "\n",
    "for sentence in target:\n",
    "    for word in sentence.strip().split():\n",
    "        wordlist_y.add(word)"
   ]
  },
  {
   "cell_type": "code",
   "execution_count": 43,
   "metadata": {},
   "outputs": [
    {
     "data": {
      "text/plain": [
       "(2079, 8951)"
      ]
     },
     "execution_count": 43,
     "metadata": {},
     "output_type": "execute_result"
    }
   ],
   "source": [
    "len(wordlist_x), len(wordlist_y)"
   ]
  },
  {
   "cell_type": "code",
   "execution_count": 47,
   "metadata": {},
   "outputs": [
    {
     "data": {
      "text/plain": [
       "10048"
      ]
     },
     "execution_count": 47,
     "metadata": {},
     "output_type": "execute_result"
    }
   ],
   "source": [
    "vocabulary = wordlist_x.union(wordlist_y)\n",
    "vocabulary.add(\" \")\n",
    "len(vocabulary)"
   ]
  },
  {
   "cell_type": "code",
   "execution_count": 22,
   "metadata": {
    "collapsed": true
   },
   "outputs": [],
   "source": [
    "# nlp = spacy.load('en_core_web_sm')\n",
    "# def process_text(input_string, return_string=False, stem=False):\n",
    "#     text = nlp(u'' + input_string)\n",
    "#     if stem == True:\n",
    "#         text = [tok.lemma_ for tok in text if (tok.is_alpha and not tok.is_stop)]\n",
    "#     else:\n",
    "#         text = [tok.lower_ for tok in text if (tok.is_alpha and not tok.is_stop)]\n",
    "#     if return_string == True:\n",
    "#         return \" \".join(text)\n",
    "#     return text"
   ]
  },
  {
   "cell_type": "code",
   "execution_count": 23,
   "metadata": {},
   "outputs": [
    {
     "name": "stderr",
     "output_type": "stream",
     "text": [
      "100%|█████████████████████████████████████████████████████████| 1039/1039 [00:01<00:00, 990.55it/s]\n",
      "100%|█████████████████████████████████████████████████████████| 1039/1039 [00:03<00:00, 270.41it/s]\n"
     ]
    }
   ],
   "source": [
    "# for i in tqdm(range(df.shape[0])):\n",
    "#         wordlist_x.append(process_text(df['Question'].iloc[i]))\n",
    "# for i in tqdm(range(df.shape[0])):\n",
    "#         wordlist_y.append(process_text(df['Sentence'].iloc[i]))"
   ]
  },
  {
   "cell_type": "code",
   "execution_count": 48,
   "metadata": {},
   "outputs": [],
   "source": [
    "token_indices = dict((c, i) for (c, i) in enumerate(vocabulary))\n",
    "indices_token = dict((i, c) for (c, i) in enumerate(vocabulary))"
   ]
  },
  {
   "cell_type": "code",
   "execution_count": 49,
   "metadata": {},
   "outputs": [
    {
     "data": {
      "text/plain": [
       "8985"
      ]
     },
     "execution_count": 49,
     "metadata": {},
     "output_type": "execute_result"
    }
   ],
   "source": [
    "indices_token[\" \"]"
   ]
  },
  {
   "cell_type": "code",
   "execution_count": 50,
   "metadata": {
    "collapsed": true
   },
   "outputs": [],
   "source": [
    "# function to give out list of indices of each word in a given asentence\n",
    "def getWordIndices(sentence):\n",
    "    wordIndices = []\n",
    "    for word in sentence.strip().split(\" \"):\n",
    "        try:\n",
    "            wordIndices.append(indices_token[word])\n",
    "        except KeyError:\n",
    "            wordIndices.append(indices_token[\" \"])\n",
    "    return wordIndices"
   ]
  },
  {
   "cell_type": "code",
   "execution_count": 52,
   "metadata": {},
   "outputs": [],
   "source": [
    "# both the trains of x & y are now indices of their respective words\n",
    "X_train = []\n",
    "for each in inputt:\n",
    "    X_train.append(getWordIndices(each))\n",
    "\n",
    "y_train = []\n",
    "for each in target:\n",
    "    y_train.append(getWordIndices(each))"
   ]
  },
  {
   "cell_type": "code",
   "execution_count": 54,
   "metadata": {},
   "outputs": [
    {
     "data": {
      "text/plain": [
       "([379, 1227, 4569, 6865, 8235],\n",
       " [9952,\n",
       "  4569,\n",
       "  6491,\n",
       "  784,\n",
       "  894,\n",
       "  6491,\n",
       "  4107,\n",
       "  4242,\n",
       "  9935,\n",
       "  3322,\n",
       "  9020,\n",
       "  894,\n",
       "  4569,\n",
       "  4676])"
      ]
     },
     "execution_count": 54,
     "metadata": {},
     "output_type": "execute_result"
    }
   ],
   "source": [
    "X_train[0], y_train[0]"
   ]
  },
  {
   "cell_type": "code",
   "execution_count": 56,
   "metadata": {
    "collapsed": true
   },
   "outputs": [],
   "source": [
    "# We reversed each words in each sentence, in the reverse order\n",
    "x_train = [x[::-1] for x in X_train]"
   ]
  },
  {
   "cell_type": "code",
   "execution_count": 58,
   "metadata": {},
   "outputs": [
    {
     "data": {
      "text/plain": [
       "[8235, 6865, 4569, 1227, 379]"
      ]
     },
     "execution_count": 58,
     "metadata": {},
     "output_type": "execute_result"
    }
   ],
   "source": [
    "x_train[0]    # the words, now in reversed order"
   ]
  },
  {
   "cell_type": "code",
   "execution_count": 55,
   "metadata": {
    "collapsed": true
   },
   "outputs": [],
   "source": [
    "from keras.preprocessing.sequence import pad_sequences\n",
    "\n",
    "# We now padd both the questions and answers, with the index of \" \"\n",
    "# Default of pad is that it is done as pre...that is this is done before the words...which are now in reversed order\n",
    "X_train = pad_sequences(x_train, value=8985)\n",
    "# But in case of y_train, it is done as post...bcoz we want this pad after the words...which are not reversed like in X_train\n",
    "y_train = pad_sequences(y_train, value=8985, padding=\"post\")"
   ]
  },
  {
   "cell_type": "code",
   "execution_count": 62,
   "metadata": {
    "collapsed": true
   },
   "outputs": [],
   "source": [
    "from keras import layers\n",
    "from keras.models import Sequential\n",
    "from keras.layers.core import Dense, Reshape\n",
    "from keras.layers.wrappers import TimeDistributed"
   ]
  },
  {
   "cell_type": "code",
   "execution_count": 63,
   "metadata": {},
   "outputs": [],
   "source": [
    "seq2seq_model = Sequential()"
   ]
  }
 ],
 "metadata": {
  "kernelspec": {
   "display_name": "Python 3",
   "language": "python",
   "name": "python3"
  },
  "language_info": {
   "codemirror_mode": {
    "name": "ipython",
    "version": 3
   },
   "file_extension": ".py",
   "mimetype": "text/x-python",
   "name": "python",
   "nbconvert_exporter": "python",
   "pygments_lexer": "ipython3",
   "version": "3.6.1"
  }
 },
 "nbformat": 4,
 "nbformat_minor": 2
}
