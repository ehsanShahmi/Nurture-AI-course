{
 "cells": [
  {
   "cell_type": "code",
   "execution_count": 2,
   "metadata": {},
   "outputs": [
    {
     "name": "stderr",
     "output_type": "stream",
     "text": [
      "100%|██████████████████████████████████████████████████████████| 2000/2000 [02:53<00:00, 11.55it/s]\n"
     ]
    }
   ],
   "source": [
    "# Make this statement true to run from scratch [It takes time to process the text]\n",
    "if 1 != 0:\n",
    "    wordlist = []\n",
    "    for i in tqdm(range(df.shape[0])):\n",
    "        wordlist.append(process_text(df['review'].iloc[i]))\n",
    "        \n",
    "    with open('vocabulary.txt', 'wb') as vocabulary:\n",
    "        pickle.dump(wordlist, vocabulary)\n",
    "    vocabulary.close()"
   ]
  },
  {
   "cell_type": "code",
   "execution_count": 7,
   "metadata": {},
   "outputs": [],
   "source": [
    "import pandas as pd\n",
    "import spacy\n",
    "import pickle\n",
    "from tqdm import tqdm\n",
    "from gensim.corpora import Dictionary\n",
    "from sklearn.utils import shuffle\n",
    "from collections import defaultdict\n",
    "import numpy as np\n",
    "\n",
    "nlp = spacy.load('en_core_web_sm')\n",
    "DATA_LIMIT = 1000\n",
    "\n",
    "df = pd.read_csv('./imdb_master.csv', encoding='latin1')\n",
    "df_neg = df[df['label'] == 'neg']\n",
    "df_pos = df[df['label'] == 'pos']\n",
    "df = pd.concat((df_pos[:DATA_LIMIT], df_neg[:DATA_LIMIT]))\n",
    "\n",
    "def process_text(input_string, return_string=False, stem=False):\n",
    "    text = nlp(u'' + input_string)\n",
    "    if stem == True:\n",
    "        text = [tok.lemma_ for tok in text if (tok.is_alpha and not tok.is_stop)]\n",
    "    else:\n",
    "        text = [tok.lower_ for tok in text if (tok.is_alpha and not tok.is_stop)]\n",
    "    if return_string == True:\n",
    "        return \" \".join(text)\n",
    "    return text"
   ]
  },
  {
   "cell_type": "code",
   "execution_count": 8,
   "metadata": {
    "collapsed": true
   },
   "outputs": [],
   "source": [
    "# Load vocabulary\n",
    "wordlist = []\n",
    "with open('vocabulary.txt', 'rb') as vocabulary:\n",
    "    wordlist = pickle.load(vocabulary)"
   ]
  },
  {
   "cell_type": "code",
   "execution_count": 9,
   "metadata": {
    "scrolled": true
   },
   "outputs": [
    {
     "data": {
      "text/plain": [
       "69"
      ]
     },
     "execution_count": 9,
     "metadata": {},
     "output_type": "execute_result"
    }
   ],
   "source": [
    "len(wordlist[0])"
   ]
  },
  {
   "cell_type": "code",
   "execution_count": 12,
   "metadata": {},
   "outputs": [
    {
     "name": "stdout",
     "output_type": "stream",
     "text": [
      "Number of Tokens - 1088\n"
     ]
    }
   ],
   "source": [
    "# Keeping track of frequency of a single token\n",
    "frequency = defaultdict(int)\n",
    "for text in wordlist:\n",
    "    for token in text:\n",
    "        frequency[token] += 1\n",
    "        \n",
    "# Apply Threshold to limit the vocabulary size, discarding the tokens which appeard number of times below the threshold limit \n",
    "FREQ_THRESHOLD = 35\n",
    "\n",
    "thresholded_wordlist =  [[token for token in text if frequency[token] > FREQ_THRESHOLD]\n",
    "          for text in wordlist]\n",
    "\n",
    "# Create Dictionary based on the word list\n",
    "dictionary = Dictionary(thresholded_wordlist)\n",
    "\n",
    "# Number of tokens\n",
    "print(\"Number of Tokens - {}\".format(len(dictionary)))"
   ]
  },
  {
   "cell_type": "code",
   "execution_count": 13,
   "metadata": {},
   "outputs": [
    {
     "data": {
      "text/plain": [
       "'admit'"
      ]
     },
     "execution_count": 13,
     "metadata": {},
     "output_type": "execute_result"
    }
   ],
   "source": [
    "dictionary[1]"
   ]
  },
  {
   "cell_type": "code",
   "execution_count": 14,
   "metadata": {},
   "outputs": [
    {
     "data": {
      "text/plain": [
       "43"
      ]
     },
     "execution_count": 14,
     "metadata": {},
     "output_type": "execute_result"
    }
   ],
   "source": [
    "len(thresholded_wordlist[0])"
   ]
  },
  {
   "cell_type": "code",
   "execution_count": 17,
   "metadata": {},
   "outputs": [
    {
     "name": "stderr",
     "output_type": "stream",
     "text": [
      "100%|████████████████████████████████████████████████████████| 2000/2000 [00:00<00:00, 3053.43it/s]\n"
     ]
    }
   ],
   "source": [
    "# Adding all the reviews in a text string...this will be very slow to manage\n",
    "dump = \"\"\n",
    "for i in tqdm(range(len(df))):\n",
    "    dump += df['review'].iloc[i].lower()"
   ]
  },
  {
   "cell_type": "code",
   "execution_count": 19,
   "metadata": {},
   "outputs": [
    {
     "name": "stderr",
     "output_type": "stream",
     "text": [
      "100%|███████████████████████████████████████████████████████| 2000/2000 [00:00<00:00, 22974.37it/s]\n"
     ]
    }
   ],
   "source": [
    "# Rather we use a text file where we dump all these reviews instead of in a single string\n",
    "with open('dump_fast.txt', 'w', encoding ='utf-8') as f:\n",
    "    for i in tqdm(range(len(df))):\n",
    "        f.write(df['review'].iloc[i].lower())\n",
    "    f.close()"
   ]
  },
  {
   "cell_type": "code",
   "execution_count": 22,
   "metadata": {},
   "outputs": [
    {
     "data": {
      "text/plain": [
       "1088"
      ]
     },
     "execution_count": 22,
     "metadata": {},
     "output_type": "execute_result"
    }
   ],
   "source": [
    "# We create a dictionary key=words, value=indices\n",
    "word2idx = { dictionary[idx]:idx for idx in range(len(dictionary))}\n",
    "len(word2idx)"
   ]
  },
  {
   "cell_type": "code",
   "execution_count": 61,
   "metadata": {},
   "outputs": [
    {
     "data": {
      "text/plain": [
       "11"
      ]
     },
     "execution_count": 61,
     "metadata": {},
     "output_type": "execute_result"
    }
   ],
   "source": [
    "word2idx['i']"
   ]
  },
  {
   "cell_type": "code",
   "execution_count": 20,
   "metadata": {
    "collapsed": true
   },
   "outputs": [],
   "source": [
    "# WE introduce a spacy obj to store and manage these review words more easily...we use the produced string\n",
    "spacy_obj = nlp(u'' + dump)"
   ]
  },
  {
   "cell_type": "code",
   "execution_count": 23,
   "metadata": {},
   "outputs": [
    {
     "data": {
      "text/plain": [
       "525604"
      ]
     },
     "execution_count": 23,
     "metadata": {},
     "output_type": "execute_result"
    }
   ],
   "source": [
    "# Since spacy_obj contains each & every words in the dataset, thus this is the length of spacy_obj:\n",
    "len(spacy_obj)"
   ]
  },
  {
   "cell_type": "code",
   "execution_count": 24,
   "metadata": {},
   "outputs": [
    {
     "name": "stdout",
     "output_type": "stream",
     "text": [
      "movie\n"
     ]
    }
   ],
   "source": [
    "# The sixth word(i.e token) in the dataset is of index 5\n",
    "# we load it using spacy_obj as an eg\n",
    "tok6 = spacy_obj[5]\n",
    "print (tok6)"
   ]
  },
  {
   "cell_type": "code",
   "execution_count": 26,
   "metadata": {},
   "outputs": [
    {
     "data": {
      "text/plain": [
       "(last, this, night)"
      ]
     },
     "execution_count": 26,
     "metadata": {},
     "output_type": "execute_result"
    }
   ],
   "source": [
    "# using spacy_obj, we can also fing this token's neighbors in both sides of the token\n",
    "tok6.nbor(1), tok6.nbor(-1), tok6.nbor(2)"
   ]
  },
  {
   "cell_type": "markdown",
   "metadata": {},
   "source": [
    "#### In cbow, the input are the context words, target is the center word\n",
    "#### So we have to maintain and create these train_x & train_y\n",
    "#### Then we use the classifier to compile then train"
   ]
  },
  {
   "cell_type": "code",
   "execution_count": 54,
   "metadata": {
    "collapsed": true
   },
   "outputs": [],
   "source": [
    "# A function to get the indices of the given word in the dictionary\n",
    "# If a certain word is not in dictionary, but in wordlist (for freq unfulfilled), then -1 is returned\n",
    "def getIndex(word):\n",
    "    try:\n",
    "        idx = word2idx[word]\n",
    "    except KeyError:\n",
    "        idx = -1\n",
    "    return idx"
   ]
  },
  {
   "cell_type": "code",
   "execution_count": 86,
   "metadata": {
    "collapsed": true
   },
   "outputs": [],
   "source": [
    "# Another function to return a indices of all the context words, given a center word\n",
    "def input_generation(word, context_size):\n",
    "    indices = np.zeros((context_size * 2))\n",
    "#     indices[0] = getIndex(str(word.nbor(-2)))\n",
    "#     indices[1] = getIndex(str(word.nbor(-1)))\n",
    "#     indices[2] = getIndex(str(word.nbor(1)))\n",
    "#     indices[3] = getIndex(str(word.nbor(2)))\n",
    "    for index in range(context_size * 2):\n",
    "        if (index - context_size) < 0:\n",
    "            indices[index] = getIndex(str(word.nbor(index - context_size)))\n",
    "        else:\n",
    "            indices[index] = getIndex(str(word.nbor(index - context_size + 1)))\n",
    "    return indices"
   ]
  },
  {
   "cell_type": "code",
   "execution_count": 88,
   "metadata": {},
   "outputs": [
    {
     "name": "stderr",
     "output_type": "stream",
     "text": [
      "100%|███████████████████████████████████████████████████| 525602/525602 [00:06<00:00, 81183.68it/s]\n"
     ]
    }
   ],
   "source": [
    "context_size = 2\n",
    "spacy_len = len(spacy_obj)\n",
    "inputt = np.zeros((spacy_len, context_size*2))  # The input array\n",
    "target = np.zeros((spacy_len))               # The target array\n",
    "\n",
    "for i in tqdm(range(spacy_len-2)):\n",
    "    nonstr_token = spacy_obj[i]\n",
    "    token = str(nonstr_token)                # We construct the string form of the elements in the spacy_obj\n",
    "    index = getIndex(token)\n",
    "    target[i] = index                        # The target containing the indices of all center words\n",
    "    inputt[i,:] = input_generation(spacy_obj[i], context_size)# Generating the input array of each centar words"
   ]
  },
  {
   "cell_type": "code",
   "execution_count": 89,
   "metadata": {},
   "outputs": [
    {
     "data": {
      "text/plain": [
       "((525604, 4), (525604,))"
      ]
     },
     "execution_count": 89,
     "metadata": {},
     "output_type": "execute_result"
    }
   ],
   "source": [
    "# The input & target array shape:\n",
    "inputt.shape, target.shape"
   ]
  },
  {
   "cell_type": "code",
   "execution_count": 90,
   "metadata": {},
   "outputs": [],
   "source": [
    "# Now from these arrays, we consider only those having indices != -1\n",
    "# we creat a common variable,\n",
    "# then we take out only the != -1 indices words.\n",
    "# thus we create the train_x and train_y with these words:\n",
    "req_indices = np.where(target!=-1)[0]\n",
    "train_x = inputt[req_indices] + 1\n",
    "train_y = target[req_indices] + 1\n",
    "# We have shifted the places one place to the right, in the train_x and train_y"
   ]
  },
  {
   "cell_type": "code",
   "execution_count": 72,
   "metadata": {},
   "outputs": [],
   "source": [
    "# inp=inputt[np.where(target!=-1)[0]]\n",
    "# # train_x = inp + 1\n",
    "# target_positive=target[np.where(target!=-1)[0]]\n",
    "# #target_positive.shape\n",
    "# # train_y = target_pos + 1\n",
    "# train_x=inp+1\n",
    "# train_y=target_positive+1"
   ]
  },
  {
   "cell_type": "code",
   "execution_count": 91,
   "metadata": {},
   "outputs": [
    {
     "data": {
      "text/plain": [
       "((291908, 4), (291908,))"
      ]
     },
     "execution_count": 91,
     "metadata": {},
     "output_type": "execute_result"
    }
   ],
   "source": [
    "train_x.shape, train_y.shape\n",
    "# This shows that around half of the words were not in the dictionary"
   ]
  },
  {
   "cell_type": "code",
   "execution_count": 92,
   "metadata": {},
   "outputs": [],
   "source": [
    "import keras.backend as K\n",
    "from keras.models import Sequential\n",
    "from keras.layers import Dense, Embedding, Lambda\n",
    "cBow = Sequential()"
   ]
  },
  {
   "cell_type": "code",
   "execution_count": 93,
   "metadata": {},
   "outputs": [
    {
     "data": {
      "text/plain": [
       "1088"
      ]
     },
     "execution_count": 93,
     "metadata": {},
     "output_type": "execute_result"
    }
   ],
   "source": [
    "len(dictionary)"
   ]
  },
  {
   "cell_type": "code",
   "execution_count": 94,
   "metadata": {},
   "outputs": [],
   "source": [
    "# Nw lastly we create the classifier skeleton\n",
    "# First we add an embedding layer, then we mean out the mid hidden layer\n",
    "# We end using softmax at the output layer\n",
    "cBow.add(Embedding(input_dim = len(dictionary)+1, output_dim = 50, input_length = context_size*2))\n",
    "cBow.add(Lambda(lambda x: K.mean(x, axis=1), output_shape=(50,)))\n",
    "cBow.add(Dense(len(dictionary)+1, activation = 'softmax'))"
   ]
  },
  {
   "cell_type": "code",
   "execution_count": 95,
   "metadata": {
    "collapsed": true
   },
   "outputs": [],
   "source": [
    "# Now we lastly compile and the fit the training data\n",
    "# And hence get the accuracies and losses\n",
    "cBow.compile(loss='sparse_categorical_crossentropy', optimizer ='adadelta')"
   ]
  },
  {
   "cell_type": "code",
   "execution_count": 96,
   "metadata": {},
   "outputs": [
    {
     "name": "stdout",
     "output_type": "stream",
     "text": [
      "Epoch 1/5\n"
     ]
    },
    {
     "name": "stdout",
     "output_type": "stream",
     "text": [
      "123168/291908 [===========>..................] - ETA: 14:19 - loss: 6.99 - ETA: 4:18 - loss: 6.9917 - ETA: 2:28 - loss: 6.990 - ETA: 2:01 - loss: 6.989 - ETA: 1:40 - loss: 6.988 - ETA: 1:28 - loss: 6.987 - ETA: 1:20 - loss: 6.986 - ETA: 1:16 - loss: 6.985 - ETA: 1:12 - loss: 6.984 - ETA: 1:09 - loss: 6.983 - ETA: 1:07 - loss: 6.982 - ETA: 1:06 - loss: 6.981 - ETA: 1:03 - loss: 6.981 - ETA: 1:02 - loss: 6.979 - ETA: 1:00 - loss: 6.978 - ETA: 1:00 - loss: 6.977 - ETA: 58s - loss: 6.976 - ETA: 57s - loss: 6.97 - ETA: 56s - loss: 6.97 - ETA: 56s - loss: 6.97 - ETA: 55s - loss: 6.97 - ETA: 54s - loss: 6.97 - ETA: 54s - loss: 6.96 - ETA: 54s - loss: 6.96 - ETA: 53s - loss: 6.96 - ETA: 53s - loss: 6.96 - ETA: 53s - loss: 6.96 - ETA: 52s - loss: 6.96 - ETA: 52s - loss: 6.96 - ETA: 52s - loss: 6.95 - ETA: 51s - loss: 6.95 - ETA: 50s - loss: 6.95 - ETA: 49s - loss: 6.95 - ETA: 49s - loss: 6.94 - ETA: 48s - loss: 6.94 - ETA: 48s - loss: 6.94 - ETA: 48s - loss: 6.94 - ETA: 48s - loss: 6.93 - ETA: 48s - loss: 6.93 - ETA: 48s - loss: 6.93 - ETA: 47s - loss: 6.93 - ETA: 47s - loss: 6.92 - ETA: 47s - loss: 6.92 - ETA: 47s - loss: 6.92 - ETA: 47s - loss: 6.91 - ETA: 46s - loss: 6.91 - ETA: 46s - loss: 6.90 - ETA: 46s - loss: 6.90 - ETA: 46s - loss: 6.89 - ETA: 46s - loss: 6.89 - ETA: 46s - loss: 6.88 - ETA: 46s - loss: 6.87 - ETA: 45s - loss: 6.87 - ETA: 45s - loss: 6.86 - ETA: 45s - loss: 6.85 - ETA: 45s - loss: 6.85 - ETA: 45s - loss: 6.84 - ETA: 45s - loss: 6.83 - ETA: 45s - loss: 6.82 - ETA: 45s - loss: 6.81 - ETA: 45s - loss: 6.80 - ETA: 45s - loss: 6.79 - ETA: 45s - loss: 6.78 - ETA: 44s - loss: 6.77 - ETA: 44s - loss: 6.76 - ETA: 44s - loss: 6.75 - ETA: 44s - loss: 6.74 - ETA: 44s - loss: 6.73 - ETA: 44s - loss: 6.72 - ETA: 44s - loss: 6.71 - ETA: 44s - loss: 6.70 - ETA: 43s - loss: 6.69 - ETA: 43s - loss: 6.68 - ETA: 43s - loss: 6.67 - ETA: 43s - loss: 6.66 - ETA: 43s - loss: 6.66 - ETA: 43s - loss: 6.65 - ETA: 43s - loss: 6.64 - ETA: 43s - loss: 6.63 - ETA: 43s - loss: 6.62 - ETA: 43s - loss: 6.61 - ETA: 43s - loss: 6.61 - ETA: 42s - loss: 6.60 - ETA: 42s - loss: 6.59 - ETA: 42s - loss: 6.58 - ETA: 42s - loss: 6.57 - ETA: 42s - loss: 6.56 - ETA: 42s - loss: 6.55 - ETA: 42s - loss: 6.55 - ETA: 42s - loss: 6.54 - ETA: 42s - loss: 6.53 - ETA: 42s - loss: 6.52 - ETA: 42s - loss: 6.51 - ETA: 42s - loss: 6.50 - ETA: 42s - loss: 6.50 - ETA: 41s - loss: 6.49 - ETA: 41s - loss: 6.48 - ETA: 41s - loss: 6.48 - ETA: 41s - loss: 6.47 - ETA: 41s - loss: 6.46 - ETA: 41s - loss: 6.45 - ETA: 41s - loss: 6.44 - ETA: 41s - loss: 6.44 - ETA: 40s - loss: 6.43 - ETA: 40s - loss: 6.42 - ETA: 40s - loss: 6.42 - ETA: 40s - loss: 6.41 - ETA: 40s - loss: 6.40 - ETA: 40s - loss: 6.40 - ETA: 40s - loss: 6.39 - ETA: 40s - loss: 6.38 - ETA: 40s - loss: 6.38 - ETA: 40s - loss: 6.37 - ETA: 40s - loss: 6.37 - ETA: 39s - loss: 6.36 - ETA: 39s - loss: 6.35 - ETA: 39s - loss: 6.35 - ETA: 39s - loss: 6.34 - ETA: 39s - loss: 6.34 - ETA: 39s - loss: 6.33 - ETA: 39s - loss: 6.33 - ETA: 39s - loss: 6.32 - ETA: 39s - loss: 6.32 - ETA: 39s - loss: 6.31 - ETA: 39s - loss: 6.30 - ETA: 39s - loss: 6.30 - ETA: 38s - loss: 6.29 - ETA: 38s - loss: 6.29 - ETA: 38s - loss: 6.29 - ETA: 38s - loss: 6.28 - ETA: 38s - loss: 6.28 - ETA: 38s - loss: 6.27 - ETA: 38s - loss: 6.26 - ETA: 38s - loss: 6.26 - ETA: 38s - loss: 6.26 - ETA: 38s - loss: 6.25 - ETA: 38s - loss: 6.25 - ETA: 38s - loss: 6.24 - ETA: 38s - loss: 6.24 - ETA: 38s - loss: 6.24 - ETA: 38s - loss: 6.23 - ETA: 38s - loss: 6.23 - ETA: 37s - loss: 6.22 - ETA: 37s - loss: 6.22 - ETA: 37s - loss: 6.21 - ETA: 37s - loss: 6.21 - ETA: 37s - loss: 6.21 - ETA: 37s - loss: 6.20 - ETA: 37s - loss: 6.20 - ETA: 37s - loss: 6.19 - ETA: 37s - loss: 6.19 - ETA: 37s - loss: 6.19 - ETA: 37s - loss: 6.18 - ETA: 37s - loss: 6.18 - ETA: 37s - loss: 6.17 - ETA: 36s - loss: 6.17 - ETA: 36s - loss: 6.17 - ETA: 36s - loss: 6.16 - ETA: 36s - loss: 6.16 - ETA: 36s - loss: 6.16 - ETA: 36s - loss: 6.15 - ETA: 36s - loss: 6.15 - ETA: 36s - loss: 6.14 - ETA: 36s - loss: 6.14 - ETA: 36s - loss: 6.14 - ETA: 36s - loss: 6.13 - ETA: 36s - loss: 6.13 - ETA: 36s - loss: 6.13 - ETA: 36s - loss: 6.12 - ETA: 36s - loss: 6.12 - ETA: 36s - loss: 6.12 - ETA: 36s - loss: 6.12 - ETA: 35s - loss: 6.11 - ETA: 35s - loss: 6.11 - ETA: 35s - loss: 6.11 - ETA: 35s - loss: 6.10 - ETA: 35s - loss: 6.10 - ETA: 35s - loss: 6.10 - ETA: 35s - loss: 6.09 - ETA: 35s - loss: 6.09 - ETA: 35s - loss: 6.09 - ETA: 35s - loss: 6.09 - ETA: 35s - loss: 6.08 - ETA: 35s - loss: 6.08 - ETA: 35s - loss: 6.08 - ETA: 34s - loss: 6.08 - ETA: 34s - loss: 6.07 - ETA: 34s - loss: 6.07 - ETA: 34s - loss: 6.07 - ETA: 34s - loss: 6.06 - ETA: 34s - loss: 6.06 - ETA: 34s - loss: 6.06 - ETA: 34s - loss: 6.05 - ETA: 34s - loss: 6.05 - ETA: 34s - loss: 6.05 - ETA: 34s - loss: 6.05 - ETA: 34s - loss: 6.04 - ETA: 34s - loss: 6.04 - ETA: 34s - loss: 6.04 - ETA: 34s - loss: 6.04 - ETA: 34s - loss: 6.03 - ETA: 33s - loss: 6.03 - ETA: 33s - loss: 6.03 - ETA: 33s - loss: 6.03 - ETA: 33s - loss: 6.03 - ETA: 33s - loss: 6.02 - ETA: 33s - loss: 6.02 - ETA: 33s - loss: 6.02 - ETA: 33s - loss: 6.02 - ETA: 33s - loss: 6.01 - ETA: 33s - loss: 6.01 - ETA: 33s - loss: 6.01 - ETA: 33s - loss: 6.01 - ETA: 33s - loss: 6.01 - ETA: 33s - loss: 6.00 - ETA: 33s - loss: 6.00 - ETA: 33s - loss: 6.00 - ETA: 33s - loss: 6.00 - ETA: 32s - loss: 6.00 - ETA: 32s - loss: 5.99 - ETA: 32s - loss: 5.99 - ETA: 32s - loss: 5.99 - ETA: 32s - loss: 5.99 - ETA: 32s - loss: 5.98 - ETA: 32s - loss: 5.98 - ETA: 32s - loss: 5.98 - ETA: 32s - loss: 5.98 - ETA: 32s - loss: 5.98 - ETA: 32s - loss: 5.97 - ETA: 32s - loss: 5.97 - ETA: 32s - loss: 5.97 - ETA: 32s - loss: 5.97 - ETA: 31s - loss: 5.97 - ETA: 31s - loss: 5.96 - ETA: 31s - loss: 5.96 - ETA: 31s - loss: 5.96 - ETA: 31s - loss: 5.96 - ETA: 31s - loss: 5.96 - ETA: 31s - loss: 5.96 - ETA: 31s - loss: 5.95 - ETA: 31s - loss: 5.95 - ETA: 31s - loss: 5.95 - ETA: 31s - loss: 5.95 - ETA: 31s - loss: 5.95 - ETA: 31s - loss: 5.95 - ETA: 31s - loss: 5.94 - ETA: 31s - loss: 5.94 - ETA: 31s - loss: 5.94 - ETA: 31s - loss: 5.94 - ETA: 31s - loss: 5.94 - ETA: 31s - loss: 5.94 - ETA: 31s - loss: 5.93 - ETA: 31s - loss: 5.93 - ETA: 30s - loss: 5.93 - ETA: 30s - loss: 5.93 - ETA: 30s - loss: 5.93 - ETA: 30s - loss: 5.93 - ETA: 30s - loss: 5.92 - ETA: 30s - loss: 5.92 - ETA: 30s - loss: 5.92 - ETA: 30s - loss: 5.92 - ETA: 30s - loss: 5.92 - ETA: 30s - loss: 5.92 - ETA: 30s - loss: 5.92 - ETA: 30s - loss: 5.91 - ETA: 30s - loss: 5.91 - ETA: 30s - loss: 5.91 - ETA: 30s - loss: 5.91 - ETA: 30s - loss: 5.91 - ETA: 30s - loss: 5.91 - ETA: 29s - loss: 5.90 - ETA: 29s - loss: 5.90 - ETA: 29s - loss: 5.90 - ETA: 29s - loss: 5.90 - ETA: 29s - loss: 5.90 - ETA: 29s - loss: 5.90 - ETA: 29s - loss: 5.89 - ETA: 29s - loss: 5.89 - ETA: 29s - loss: 5.89 - ETA: 29s - loss: 5.89 - ETA: 29s - loss: 5.89 - ETA: 29s - loss: 5.89 - ETA: 29s - loss: 5.89 - ETA: 29s - loss: 5.88 - ETA: 29s - loss: 5.88 - ETA: 29s - loss: 5.88 - ETA: 29s - loss: 5.88 - ETA: 28s - loss: 5.88 - ETA: 28s - loss: 5.88 - ETA: 28s - loss: 5.88 - ETA: 28s - loss: 5.87 - ETA: 28s - loss: 5.87 - ETA: 28s - loss: 5.87 - ETA: 28s - loss: 5.87 - ETA: 28s - loss: 5.87 - ETA: 28s - loss: 5.87 - ETA: 28s - loss: 5.87 - ETA: 28s - loss: 5.86 - ETA: 28s - loss: 5.86 - ETA: 28s - loss: 5.86 - ETA: 28s - loss: 5.86 - ETA: 28s - loss: 5.86 - ETA: 27s - loss: 5.86 - ETA: 27s - loss: 5.86 - ETA: 27s - loss: 5.86 - ETA: 27s - loss: 5.85 - ETA: 27s - loss: 5.85 - ETA: 27s - loss: 5.85 - ETA: 27s - loss: 5.85 - ETA: 27s - loss: 5.85 - ETA: 27s - loss: 5.85 - ETA: 27s - loss: 5.85 - ETA: 27s - loss: 5.84 - ETA: 27s - loss: 5.84 - ETA: 27s - loss: 5.84 - ETA: 27s - loss: 5.84 - ETA: 27s - loss: 5.84 - ETA: 27s - loss: 5.84 - ETA: 27s - loss: 5.84 - ETA: 26s - loss: 5.84 - ETA: 26s - loss: 5.83 - ETA: 26s - loss: 5.83 - ETA: 26s - loss: 5.83 - ETA: 26s - loss: 5.83 - ETA: 26s - loss: 5.83 - ETA: 26s - loss: 5.83 - ETA: 26s - loss: 5.83 - ETA: 26s - loss: 5.83 - ETA: 26s - loss: 5.83 - ETA: 26s - loss: 5.83 - ETA: 26s - loss: 5.82 - ETA: 26s - loss: 5.82 - ETA: 26s - loss: 5.82 - ETA: 26s - loss: 5.82 - ETA: 26s - loss: 5.82 - ETA: 26s - loss: 5.82 - ETA: 26s - loss: 5.82 - ETA: 25s - loss: 5.8220\b\b\b\b\b\b\b\b\b\b\b\b\b\b\b\b\b\b\b\b\b\b\b\b\b\b\b\b\b\b\b\b\b\b\b\b\b\b\b\b\b\b\b\b\b\b\b\b\b\b\b\b\b\b\b\b\b\b\b\b\b\b\b\b\b\b\b\b\b\b\b\b"
     ]
    },
    {
     "name": "stdout",
     "output_type": "stream",
     "text": [
      "239616/291908 [=======================>......] - ETA: 25s - loss: 5.82 - ETA: 25s - loss: 5.81 - ETA: 25s - loss: 5.81 - ETA: 25s - loss: 5.81 - ETA: 25s - loss: 5.81 - ETA: 25s - loss: 5.81 - ETA: 25s - loss: 5.81 - ETA: 25s - loss: 5.81 - ETA: 25s - loss: 5.81 - ETA: 25s - loss: 5.81 - ETA: 25s - loss: 5.81 - ETA: 25s - loss: 5.81 - ETA: 25s - loss: 5.81 - ETA: 25s - loss: 5.80 - ETA: 25s - loss: 5.80 - ETA: 25s - loss: 5.80 - ETA: 25s - loss: 5.80 - ETA: 25s - loss: 5.80 - ETA: 24s - loss: 5.80 - ETA: 24s - loss: 5.80 - ETA: 24s - loss: 5.80 - ETA: 24s - loss: 5.80 - ETA: 24s - loss: 5.80 - ETA: 24s - loss: 5.79 - ETA: 24s - loss: 5.79 - ETA: 24s - loss: 5.79 - ETA: 24s - loss: 5.79 - ETA: 24s - loss: 5.79 - ETA: 24s - loss: 5.79 - ETA: 24s - loss: 5.79 - ETA: 24s - loss: 5.79 - ETA: 24s - loss: 5.79 - ETA: 24s - loss: 5.79 - ETA: 24s - loss: 5.79 - ETA: 24s - loss: 5.79 - ETA: 24s - loss: 5.78 - ETA: 23s - loss: 5.78 - ETA: 23s - loss: 5.78 - ETA: 23s - loss: 5.78 - ETA: 23s - loss: 5.78 - ETA: 23s - loss: 5.78 - ETA: 23s - loss: 5.78 - ETA: 23s - loss: 5.78 - ETA: 23s - loss: 5.78 - ETA: 23s - loss: 5.78 - ETA: 23s - loss: 5.78 - ETA: 23s - loss: 5.78 - ETA: 23s - loss: 5.77 - ETA: 23s - loss: 5.77 - ETA: 23s - loss: 5.77 - ETA: 23s - loss: 5.77 - ETA: 23s - loss: 5.77 - ETA: 23s - loss: 5.77 - ETA: 23s - loss: 5.77 - ETA: 23s - loss: 5.77 - ETA: 23s - loss: 5.77 - ETA: 23s - loss: 5.77 - ETA: 22s - loss: 5.77 - ETA: 22s - loss: 5.77 - ETA: 22s - loss: 5.77 - ETA: 22s - loss: 5.76 - ETA: 22s - loss: 5.76 - ETA: 22s - loss: 5.76 - ETA: 22s - loss: 5.76 - ETA: 22s - loss: 5.76 - ETA: 22s - loss: 5.76 - ETA: 22s - loss: 5.76 - ETA: 22s - loss: 5.76 - ETA: 22s - loss: 5.76 - ETA: 22s - loss: 5.76 - ETA: 22s - loss: 5.76 - ETA: 22s - loss: 5.76 - ETA: 22s - loss: 5.76 - ETA: 22s - loss: 5.75 - ETA: 22s - loss: 5.75 - ETA: 22s - loss: 5.75 - ETA: 22s - loss: 5.75 - ETA: 21s - loss: 5.75 - ETA: 21s - loss: 5.75 - ETA: 21s - loss: 5.75 - ETA: 21s - loss: 5.75 - ETA: 21s - loss: 5.75 - ETA: 21s - loss: 5.75 - ETA: 21s - loss: 5.75 - ETA: 21s - loss: 5.75 - ETA: 21s - loss: 5.75 - ETA: 21s - loss: 5.75 - ETA: 21s - loss: 5.75 - ETA: 21s - loss: 5.75 - ETA: 21s - loss: 5.74 - ETA: 21s - loss: 5.74 - ETA: 21s - loss: 5.74 - ETA: 21s - loss: 5.74 - ETA: 21s - loss: 5.74 - ETA: 21s - loss: 5.74 - ETA: 21s - loss: 5.74 - ETA: 21s - loss: 5.74 - ETA: 20s - loss: 5.74 - ETA: 20s - loss: 5.74 - ETA: 20s - loss: 5.74 - ETA: 20s - loss: 5.74 - ETA: 20s - loss: 5.74 - ETA: 20s - loss: 5.74 - ETA: 20s - loss: 5.74 - ETA: 20s - loss: 5.74 - ETA: 20s - loss: 5.73 - ETA: 20s - loss: 5.73 - ETA: 20s - loss: 5.73 - ETA: 20s - loss: 5.73 - ETA: 20s - loss: 5.73 - ETA: 20s - loss: 5.73 - ETA: 20s - loss: 5.73 - ETA: 20s - loss: 5.73 - ETA: 20s - loss: 5.73 - ETA: 20s - loss: 5.73 - ETA: 20s - loss: 5.73 - ETA: 20s - loss: 5.73 - ETA: 19s - loss: 5.73 - ETA: 19s - loss: 5.73 - ETA: 19s - loss: 5.73 - ETA: 19s - loss: 5.73 - ETA: 19s - loss: 5.72 - ETA: 19s - loss: 5.72 - ETA: 19s - loss: 5.72 - ETA: 19s - loss: 5.72 - ETA: 19s - loss: 5.72 - ETA: 19s - loss: 5.72 - ETA: 19s - loss: 5.72 - ETA: 19s - loss: 5.72 - ETA: 19s - loss: 5.72 - ETA: 19s - loss: 5.72 - ETA: 19s - loss: 5.72 - ETA: 19s - loss: 5.72 - ETA: 19s - loss: 5.72 - ETA: 19s - loss: 5.72 - ETA: 19s - loss: 5.72 - ETA: 19s - loss: 5.72 - ETA: 18s - loss: 5.72 - ETA: 18s - loss: 5.72 - ETA: 18s - loss: 5.71 - ETA: 18s - loss: 5.71 - ETA: 18s - loss: 5.71 - ETA: 18s - loss: 5.71 - ETA: 18s - loss: 5.71 - ETA: 18s - loss: 5.71 - ETA: 18s - loss: 5.71 - ETA: 18s - loss: 5.71 - ETA: 18s - loss: 5.71 - ETA: 18s - loss: 5.71 - ETA: 18s - loss: 5.71 - ETA: 18s - loss: 5.71 - ETA: 18s - loss: 5.71 - ETA: 18s - loss: 5.71 - ETA: 18s - loss: 5.71 - ETA: 18s - loss: 5.70 - ETA: 18s - loss: 5.70 - ETA: 18s - loss: 5.70 - ETA: 17s - loss: 5.70 - ETA: 17s - loss: 5.70 - ETA: 17s - loss: 5.70 - ETA: 17s - loss: 5.70 - ETA: 17s - loss: 5.70 - ETA: 17s - loss: 5.70 - ETA: 17s - loss: 5.70 - ETA: 17s - loss: 5.70 - ETA: 17s - loss: 5.70 - ETA: 17s - loss: 5.70 - ETA: 17s - loss: 5.70 - ETA: 17s - loss: 5.70 - ETA: 17s - loss: 5.69 - ETA: 17s - loss: 5.69 - ETA: 17s - loss: 5.69 - ETA: 17s - loss: 5.69 - ETA: 17s - loss: 5.69 - ETA: 17s - loss: 5.69 - ETA: 17s - loss: 5.69 - ETA: 17s - loss: 5.69 - ETA: 16s - loss: 5.69 - ETA: 16s - loss: 5.69 - ETA: 16s - loss: 5.69 - ETA: 16s - loss: 5.69 - ETA: 16s - loss: 5.69 - ETA: 16s - loss: 5.69 - ETA: 16s - loss: 5.69 - ETA: 16s - loss: 5.69 - ETA: 16s - loss: 5.69 - ETA: 16s - loss: 5.69 - ETA: 16s - loss: 5.69 - ETA: 16s - loss: 5.69 - ETA: 16s - loss: 5.69 - ETA: 16s - loss: 5.68 - ETA: 16s - loss: 5.68 - ETA: 16s - loss: 5.68 - ETA: 16s - loss: 5.68 - ETA: 16s - loss: 5.68 - ETA: 16s - loss: 5.68 - ETA: 16s - loss: 5.68 - ETA: 16s - loss: 5.68 - ETA: 16s - loss: 5.68 - ETA: 15s - loss: 5.68 - ETA: 15s - loss: 5.68 - ETA: 15s - loss: 5.68 - ETA: 15s - loss: 5.68 - ETA: 15s - loss: 5.68 - ETA: 15s - loss: 5.68 - ETA: 15s - loss: 5.68 - ETA: 15s - loss: 5.68 - ETA: 15s - loss: 5.67 - ETA: 15s - loss: 5.67 - ETA: 15s - loss: 5.67 - ETA: 15s - loss: 5.67 - ETA: 15s - loss: 5.67 - ETA: 15s - loss: 5.67 - ETA: 15s - loss: 5.67 - ETA: 15s - loss: 5.67 - ETA: 15s - loss: 5.67 - ETA: 15s - loss: 5.67 - ETA: 15s - loss: 5.67 - ETA: 14s - loss: 5.67 - ETA: 14s - loss: 5.67 - ETA: 14s - loss: 5.67 - ETA: 14s - loss: 5.67 - ETA: 14s - loss: 5.67 - ETA: 14s - loss: 5.67 - ETA: 14s - loss: 5.67 - ETA: 14s - loss: 5.66 - ETA: 14s - loss: 5.66 - ETA: 14s - loss: 5.66 - ETA: 14s - loss: 5.66 - ETA: 14s - loss: 5.66 - ETA: 14s - loss: 5.66 - ETA: 14s - loss: 5.66 - ETA: 14s - loss: 5.66 - ETA: 14s - loss: 5.66 - ETA: 14s - loss: 5.66 - ETA: 14s - loss: 5.66 - ETA: 13s - loss: 5.66 - ETA: 13s - loss: 5.66 - ETA: 13s - loss: 5.66 - ETA: 13s - loss: 5.66 - ETA: 13s - loss: 5.66 - ETA: 13s - loss: 5.66 - ETA: 13s - loss: 5.66 - ETA: 13s - loss: 5.65 - ETA: 13s - loss: 5.65 - ETA: 13s - loss: 5.65 - ETA: 13s - loss: 5.65 - ETA: 13s - loss: 5.65 - ETA: 13s - loss: 5.65 - ETA: 13s - loss: 5.65 - ETA: 13s - loss: 5.65 - ETA: 13s - loss: 5.65 - ETA: 13s - loss: 5.65 - ETA: 13s - loss: 5.65 - ETA: 13s - loss: 5.65 - ETA: 12s - loss: 5.65 - ETA: 12s - loss: 5.65 - ETA: 12s - loss: 5.65 - ETA: 12s - loss: 5.65 - ETA: 12s - loss: 5.65 - ETA: 12s - loss: 5.65 - ETA: 12s - loss: 5.65 - ETA: 12s - loss: 5.65 - ETA: 12s - loss: 5.64 - ETA: 12s - loss: 5.64 - ETA: 12s - loss: 5.64 - ETA: 12s - loss: 5.64 - ETA: 12s - loss: 5.64 - ETA: 12s - loss: 5.64 - ETA: 12s - loss: 5.64 - ETA: 12s - loss: 5.64 - ETA: 12s - loss: 5.64 - ETA: 11s - loss: 5.64 - ETA: 11s - loss: 5.64 - ETA: 11s - loss: 5.64 - ETA: 11s - loss: 5.64 - ETA: 11s - loss: 5.64 - ETA: 11s - loss: 5.64 - ETA: 11s - loss: 5.64 - ETA: 11s - loss: 5.64 - ETA: 11s - loss: 5.64 - ETA: 11s - loss: 5.64 - ETA: 11s - loss: 5.64 - ETA: 11s - loss: 5.64 - ETA: 11s - loss: 5.64 - ETA: 11s - loss: 5.63 - ETA: 11s - loss: 5.63 - ETA: 11s - loss: 5.63 - ETA: 11s - loss: 5.63 - ETA: 11s - loss: 5.63 - ETA: 10s - loss: 5.63 - ETA: 10s - loss: 5.63 - ETA: 10s - loss: 5.63 - ETA: 10s - loss: 5.63 - ETA: 10s - loss: 5.63 - ETA: 10s - loss: 5.63 - ETA: 10s - loss: 5.63 - ETA: 10s - loss: 5.63 - ETA: 10s - loss: 5.63 - ETA: 10s - loss: 5.63 - ETA: 10s - loss: 5.63 - ETA: 10s - loss: 5.63 - ETA: 10s - loss: 5.63 - ETA: 10s - loss: 5.63 - ETA: 10s - loss: 5.63 - ETA: 10s - loss: 5.62 - ETA: 10s - loss: 5.62 - ETA: 10s - loss: 5.62 - ETA: 9s - loss: 5.6282 - ETA: 9s - loss: 5.627 - ETA: 9s - loss: 5.627 - ETA: 9s - loss: 5.626 - ETA: 9s - loss: 5.626 - ETA: 9s - loss: 5.626 - ETA: 9s - loss: 5.625 - ETA: 9s - loss: 5.625 - ETA: 9s - loss: 5.624 - ETA: 9s - loss: 5.624 - ETA: 9s - loss: 5.624 - ETA: 9s - loss: 5.623 - ETA: 9s - loss: 5.622 - ETA: 9s - loss: 5.622 - ETA: 9s - loss: 5.621 - ETA: 9s - loss: 5.621 - ETA: 9s - loss: 5.621 - ETA: 8s - loss: 5.621 - ETA: 8s - loss: 5.620 - ETA: 8s - loss: 5.620 - ETA: 8s - loss: 5.619 - ETA: 8s - loss: 5.619 - ETA: 8s - loss: 5.619 - ETA: 8s - loss: 5.619 - ETA: 8s - loss: 5.618 - ETA: 8s - loss: 5.618 - ETA: 8s - loss: 5.618 - ETA: 8s - loss: 5.617 - ETA: 8s - loss: 5.617 - ETA: 8s - loss: 5.617 - ETA: 8s - loss: 5.616 - ETA: 8s - loss: 5.6162"
     ]
    },
    {
     "name": "stdout",
     "output_type": "stream",
     "text": [
      "291908/291908 [==============================] - ETA: 8s - loss: 5.615 - ETA: 8s - loss: 5.615 - ETA: 8s - loss: 5.614 - ETA: 8s - loss: 5.614 - ETA: 7s - loss: 5.613 - ETA: 7s - loss: 5.613 - ETA: 7s - loss: 5.612 - ETA: 7s - loss: 5.611 - ETA: 7s - loss: 5.611 - ETA: 7s - loss: 5.611 - ETA: 7s - loss: 5.610 - ETA: 7s - loss: 5.610 - ETA: 7s - loss: 5.609 - ETA: 7s - loss: 5.609 - ETA: 7s - loss: 5.609 - ETA: 7s - loss: 5.608 - ETA: 7s - loss: 5.608 - ETA: 7s - loss: 5.607 - ETA: 7s - loss: 5.607 - ETA: 7s - loss: 5.606 - ETA: 7s - loss: 5.605 - ETA: 6s - loss: 5.605 - ETA: 6s - loss: 5.605 - ETA: 6s - loss: 5.605 - ETA: 6s - loss: 5.604 - ETA: 6s - loss: 5.604 - ETA: 6s - loss: 5.604 - ETA: 6s - loss: 5.603 - ETA: 6s - loss: 5.603 - ETA: 6s - loss: 5.602 - ETA: 6s - loss: 5.602 - ETA: 6s - loss: 5.601 - ETA: 6s - loss: 5.601 - ETA: 6s - loss: 5.601 - ETA: 6s - loss: 5.600 - ETA: 6s - loss: 5.600 - ETA: 6s - loss: 5.599 - ETA: 6s - loss: 5.599 - ETA: 6s - loss: 5.599 - ETA: 6s - loss: 5.598 - ETA: 5s - loss: 5.598 - ETA: 5s - loss: 5.597 - ETA: 5s - loss: 5.597 - ETA: 5s - loss: 5.597 - ETA: 5s - loss: 5.596 - ETA: 5s - loss: 5.596 - ETA: 5s - loss: 5.595 - ETA: 5s - loss: 5.595 - ETA: 5s - loss: 5.594 - ETA: 5s - loss: 5.594 - ETA: 5s - loss: 5.594 - ETA: 5s - loss: 5.593 - ETA: 5s - loss: 5.593 - ETA: 5s - loss: 5.593 - ETA: 5s - loss: 5.592 - ETA: 5s - loss: 5.592 - ETA: 5s - loss: 5.592 - ETA: 5s - loss: 5.591 - ETA: 4s - loss: 5.591 - ETA: 4s - loss: 5.590 - ETA: 4s - loss: 5.590 - ETA: 4s - loss: 5.590 - ETA: 4s - loss: 5.590 - ETA: 4s - loss: 5.589 - ETA: 4s - loss: 5.589 - ETA: 4s - loss: 5.588 - ETA: 4s - loss: 5.588 - ETA: 4s - loss: 5.587 - ETA: 4s - loss: 5.587 - ETA: 4s - loss: 5.587 - ETA: 4s - loss: 5.587 - ETA: 4s - loss: 5.586 - ETA: 4s - loss: 5.586 - ETA: 4s - loss: 5.585 - ETA: 4s - loss: 5.585 - ETA: 4s - loss: 5.585 - ETA: 3s - loss: 5.584 - ETA: 3s - loss: 5.584 - ETA: 3s - loss: 5.583 - ETA: 3s - loss: 5.583 - ETA: 3s - loss: 5.583 - ETA: 3s - loss: 5.583 - ETA: 3s - loss: 5.583 - ETA: 3s - loss: 5.582 - ETA: 3s - loss: 5.582 - ETA: 3s - loss: 5.581 - ETA: 3s - loss: 5.581 - ETA: 3s - loss: 5.581 - ETA: 3s - loss: 5.580 - ETA: 3s - loss: 5.580 - ETA: 3s - loss: 5.579 - ETA: 3s - loss: 5.579 - ETA: 3s - loss: 5.579 - ETA: 3s - loss: 5.579 - ETA: 3s - loss: 5.578 - ETA: 2s - loss: 5.577 - ETA: 2s - loss: 5.577 - ETA: 2s - loss: 5.577 - ETA: 2s - loss: 5.576 - ETA: 2s - loss: 5.576 - ETA: 2s - loss: 5.576 - ETA: 2s - loss: 5.575 - ETA: 2s - loss: 5.575 - ETA: 2s - loss: 5.575 - ETA: 2s - loss: 5.574 - ETA: 2s - loss: 5.574 - ETA: 2s - loss: 5.573 - ETA: 2s - loss: 5.573 - ETA: 2s - loss: 5.573 - ETA: 2s - loss: 5.572 - ETA: 2s - loss: 5.572 - ETA: 2s - loss: 5.572 - ETA: 1s - loss: 5.571 - ETA: 1s - loss: 5.571 - ETA: 1s - loss: 5.570 - ETA: 1s - loss: 5.570 - ETA: 1s - loss: 5.570 - ETA: 1s - loss: 5.569 - ETA: 1s - loss: 5.569 - ETA: 1s - loss: 5.569 - ETA: 1s - loss: 5.568 - ETA: 1s - loss: 5.568 - ETA: 1s - loss: 5.568 - ETA: 1s - loss: 5.567 - ETA: 1s - loss: 5.567 - ETA: 1s - loss: 5.566 - ETA: 1s - loss: 5.566 - ETA: 1s - loss: 5.565 - ETA: 1s - loss: 5.565 - ETA: 1s - loss: 5.565 - ETA: 0s - loss: 5.565 - ETA: 0s - loss: 5.565 - ETA: 0s - loss: 5.564 - ETA: 0s - loss: 5.564 - ETA: 0s - loss: 5.563 - ETA: 0s - loss: 5.563 - ETA: 0s - loss: 5.562 - ETA: 0s - loss: 5.562 - ETA: 0s - loss: 5.562 - ETA: 0s - loss: 5.561 - ETA: 0s - loss: 5.561 - ETA: 0s - loss: 5.560 - ETA: 0s - loss: 5.560 - ETA: 0s - loss: 5.560 - ETA: 0s - loss: 5.559 - ETA: 0s - loss: 5.559 - ETA: 0s - loss: 5.558 - ETA: 0s - loss: 5.558 - 46s 159us/step - loss: 5.5585\n",
      "Epoch 2/5\n"
     ]
    },
    {
     "name": "stdout",
     "output_type": "stream",
     "text": [
      "117696/291908 [===========>..................] - ETA: 1:28 - loss: 5.746 - ETA: 1:00 - loss: 5.360 - ETA: 53s - loss: 5.264 - ETA: 51s - loss: 5.24 - ETA: 48s - loss: 5.26 - ETA: 47s - loss: 5.25 - ETA: 47s - loss: 5.24 - ETA: 46s - loss: 5.25 - ETA: 46s - loss: 5.27 - ETA: 47s - loss: 5.27 - ETA: 46s - loss: 5.27 - ETA: 46s - loss: 5.26 - ETA: 46s - loss: 5.28 - ETA: 46s - loss: 5.27 - ETA: 47s - loss: 5.29 - ETA: 46s - loss: 5.29 - ETA: 46s - loss: 5.30 - ETA: 46s - loss: 5.31 - ETA: 45s - loss: 5.31 - ETA: 45s - loss: 5.31 - ETA: 45s - loss: 5.30 - ETA: 45s - loss: 5.30 - ETA: 45s - loss: 5.29 - ETA: 44s - loss: 5.30 - ETA: 44s - loss: 5.31 - ETA: 44s - loss: 5.30 - ETA: 44s - loss: 5.30 - ETA: 44s - loss: 5.29 - ETA: 44s - loss: 5.29 - ETA: 44s - loss: 5.29 - ETA: 44s - loss: 5.30 - ETA: 44s - loss: 5.30 - ETA: 44s - loss: 5.30 - ETA: 44s - loss: 5.30 - ETA: 45s - loss: 5.30 - ETA: 45s - loss: 5.30 - ETA: 44s - loss: 5.30 - ETA: 44s - loss: 5.30 - ETA: 44s - loss: 5.30 - ETA: 44s - loss: 5.30 - ETA: 44s - loss: 5.30 - ETA: 44s - loss: 5.30 - ETA: 44s - loss: 5.30 - ETA: 44s - loss: 5.30 - ETA: 44s - loss: 5.30 - ETA: 44s - loss: 5.30 - ETA: 44s - loss: 5.30 - ETA: 44s - loss: 5.29 - ETA: 44s - loss: 5.29 - ETA: 44s - loss: 5.29 - ETA: 44s - loss: 5.29 - ETA: 44s - loss: 5.29 - ETA: 44s - loss: 5.29 - ETA: 44s - loss: 5.30 - ETA: 44s - loss: 5.29 - ETA: 44s - loss: 5.29 - ETA: 44s - loss: 5.29 - ETA: 44s - loss: 5.30 - ETA: 44s - loss: 5.30 - ETA: 43s - loss: 5.30 - ETA: 43s - loss: 5.29 - ETA: 43s - loss: 5.30 - ETA: 43s - loss: 5.30 - ETA: 43s - loss: 5.30 - ETA: 43s - loss: 5.30 - ETA: 43s - loss: 5.30 - ETA: 43s - loss: 5.30 - ETA: 43s - loss: 5.30 - ETA: 43s - loss: 5.29 - ETA: 43s - loss: 5.29 - ETA: 43s - loss: 5.30 - ETA: 43s - loss: 5.30 - ETA: 42s - loss: 5.30 - ETA: 43s - loss: 5.30 - ETA: 43s - loss: 5.30 - ETA: 43s - loss: 5.30 - ETA: 43s - loss: 5.29 - ETA: 43s - loss: 5.29 - ETA: 42s - loss: 5.29 - ETA: 42s - loss: 5.29 - ETA: 42s - loss: 5.29 - ETA: 42s - loss: 5.29 - ETA: 42s - loss: 5.29 - ETA: 42s - loss: 5.29 - ETA: 42s - loss: 5.29 - ETA: 42s - loss: 5.29 - ETA: 42s - loss: 5.29 - ETA: 42s - loss: 5.29 - ETA: 42s - loss: 5.29 - ETA: 41s - loss: 5.29 - ETA: 41s - loss: 5.29 - ETA: 41s - loss: 5.29 - ETA: 41s - loss: 5.29 - ETA: 41s - loss: 5.29 - ETA: 41s - loss: 5.29 - ETA: 41s - loss: 5.29 - ETA: 41s - loss: 5.29 - ETA: 41s - loss: 5.29 - ETA: 41s - loss: 5.29 - ETA: 41s - loss: 5.29 - ETA: 41s - loss: 5.29 - ETA: 41s - loss: 5.29 - ETA: 41s - loss: 5.29 - ETA: 41s - loss: 5.29 - ETA: 41s - loss: 5.29 - ETA: 41s - loss: 5.29 - ETA: 41s - loss: 5.29 - ETA: 41s - loss: 5.29 - ETA: 41s - loss: 5.29 - ETA: 41s - loss: 5.29 - ETA: 40s - loss: 5.29 - ETA: 40s - loss: 5.29 - ETA: 40s - loss: 5.29 - ETA: 40s - loss: 5.29 - ETA: 40s - loss: 5.29 - ETA: 40s - loss: 5.29 - ETA: 40s - loss: 5.29 - ETA: 40s - loss: 5.29 - ETA: 40s - loss: 5.29 - ETA: 40s - loss: 5.29 - ETA: 40s - loss: 5.29 - ETA: 40s - loss: 5.28 - ETA: 39s - loss: 5.28 - ETA: 39s - loss: 5.28 - ETA: 39s - loss: 5.28 - ETA: 39s - loss: 5.28 - ETA: 39s - loss: 5.28 - ETA: 39s - loss: 5.28 - ETA: 39s - loss: 5.28 - ETA: 39s - loss: 5.28 - ETA: 39s - loss: 5.28 - ETA: 39s - loss: 5.28 - ETA: 39s - loss: 5.28 - ETA: 39s - loss: 5.28 - ETA: 39s - loss: 5.28 - ETA: 39s - loss: 5.28 - ETA: 39s - loss: 5.28 - ETA: 39s - loss: 5.28 - ETA: 39s - loss: 5.28 - ETA: 39s - loss: 5.28 - ETA: 39s - loss: 5.28 - ETA: 39s - loss: 5.28 - ETA: 39s - loss: 5.28 - ETA: 39s - loss: 5.28 - ETA: 38s - loss: 5.28 - ETA: 38s - loss: 5.28 - ETA: 38s - loss: 5.28 - ETA: 38s - loss: 5.28 - ETA: 38s - loss: 5.28 - ETA: 38s - loss: 5.28 - ETA: 38s - loss: 5.28 - ETA: 38s - loss: 5.28 - ETA: 38s - loss: 5.28 - ETA: 38s - loss: 5.28 - ETA: 38s - loss: 5.28 - ETA: 38s - loss: 5.28 - ETA: 38s - loss: 5.28 - ETA: 38s - loss: 5.28 - ETA: 38s - loss: 5.28 - ETA: 38s - loss: 5.28 - ETA: 38s - loss: 5.28 - ETA: 38s - loss: 5.28 - ETA: 38s - loss: 5.28 - ETA: 38s - loss: 5.28 - ETA: 38s - loss: 5.28 - ETA: 38s - loss: 5.28 - ETA: 38s - loss: 5.28 - ETA: 38s - loss: 5.28 - ETA: 38s - loss: 5.28 - ETA: 38s - loss: 5.28 - ETA: 38s - loss: 5.28 - ETA: 37s - loss: 5.28 - ETA: 37s - loss: 5.28 - ETA: 37s - loss: 5.28 - ETA: 37s - loss: 5.28 - ETA: 37s - loss: 5.28 - ETA: 37s - loss: 5.28 - ETA: 37s - loss: 5.28 - ETA: 37s - loss: 5.28 - ETA: 37s - loss: 5.28 - ETA: 37s - loss: 5.28 - ETA: 37s - loss: 5.28 - ETA: 37s - loss: 5.28 - ETA: 37s - loss: 5.28 - ETA: 37s - loss: 5.28 - ETA: 37s - loss: 5.28 - ETA: 37s - loss: 5.28 - ETA: 36s - loss: 5.28 - ETA: 36s - loss: 5.28 - ETA: 36s - loss: 5.28 - ETA: 36s - loss: 5.28 - ETA: 36s - loss: 5.28 - ETA: 36s - loss: 5.28 - ETA: 36s - loss: 5.28 - ETA: 36s - loss: 5.28 - ETA: 36s - loss: 5.28 - ETA: 36s - loss: 5.28 - ETA: 36s - loss: 5.28 - ETA: 36s - loss: 5.28 - ETA: 36s - loss: 5.28 - ETA: 36s - loss: 5.28 - ETA: 36s - loss: 5.28 - ETA: 36s - loss: 5.28 - ETA: 36s - loss: 5.28 - ETA: 35s - loss: 5.28 - ETA: 35s - loss: 5.28 - ETA: 35s - loss: 5.28 - ETA: 35s - loss: 5.28 - ETA: 35s - loss: 5.28 - ETA: 35s - loss: 5.28 - ETA: 35s - loss: 5.27 - ETA: 35s - loss: 5.27 - ETA: 35s - loss: 5.27 - ETA: 35s - loss: 5.28 - ETA: 35s - loss: 5.27 - ETA: 35s - loss: 5.27 - ETA: 35s - loss: 5.27 - ETA: 35s - loss: 5.27 - ETA: 35s - loss: 5.27 - ETA: 35s - loss: 5.27 - ETA: 35s - loss: 5.27 - ETA: 34s - loss: 5.27 - ETA: 34s - loss: 5.27 - ETA: 34s - loss: 5.27 - ETA: 34s - loss: 5.27 - ETA: 34s - loss: 5.27 - ETA: 34s - loss: 5.27 - ETA: 34s - loss: 5.27 - ETA: 34s - loss: 5.27 - ETA: 34s - loss: 5.27 - ETA: 34s - loss: 5.27 - ETA: 34s - loss: 5.27 - ETA: 34s - loss: 5.27 - ETA: 34s - loss: 5.27 - ETA: 34s - loss: 5.27 - ETA: 34s - loss: 5.27 - ETA: 34s - loss: 5.27 - ETA: 34s - loss: 5.27 - ETA: 33s - loss: 5.27 - ETA: 33s - loss: 5.27 - ETA: 33s - loss: 5.27 - ETA: 33s - loss: 5.27 - ETA: 33s - loss: 5.27 - ETA: 33s - loss: 5.27 - ETA: 33s - loss: 5.27 - ETA: 33s - loss: 5.27 - ETA: 33s - loss: 5.27 - ETA: 33s - loss: 5.27 - ETA: 33s - loss: 5.27 - ETA: 33s - loss: 5.27 - ETA: 33s - loss: 5.27 - ETA: 33s - loss: 5.27 - ETA: 33s - loss: 5.26 - ETA: 33s - loss: 5.26 - ETA: 33s - loss: 5.27 - ETA: 33s - loss: 5.26 - ETA: 32s - loss: 5.26 - ETA: 32s - loss: 5.26 - ETA: 32s - loss: 5.26 - ETA: 32s - loss: 5.26 - ETA: 32s - loss: 5.26 - ETA: 32s - loss: 5.26 - ETA: 32s - loss: 5.26 - ETA: 32s - loss: 5.26 - ETA: 32s - loss: 5.26 - ETA: 32s - loss: 5.26 - ETA: 32s - loss: 5.26 - ETA: 32s - loss: 5.26 - ETA: 32s - loss: 5.26 - ETA: 32s - loss: 5.26 - ETA: 32s - loss: 5.26 - ETA: 32s - loss: 5.26 - ETA: 32s - loss: 5.26 - ETA: 32s - loss: 5.26 - ETA: 31s - loss: 5.26 - ETA: 31s - loss: 5.26 - ETA: 31s - loss: 5.26 - ETA: 31s - loss: 5.26 - ETA: 31s - loss: 5.26 - ETA: 31s - loss: 5.26 - ETA: 31s - loss: 5.26 - ETA: 31s - loss: 5.26 - ETA: 31s - loss: 5.26 - ETA: 31s - loss: 5.26 - ETA: 31s - loss: 5.26 - ETA: 31s - loss: 5.26 - ETA: 31s - loss: 5.26 - ETA: 31s - loss: 5.26 - ETA: 31s - loss: 5.26 - ETA: 31s - loss: 5.26 - ETA: 31s - loss: 5.26 - ETA: 31s - loss: 5.26 - ETA: 31s - loss: 5.26 - ETA: 30s - loss: 5.26 - ETA: 30s - loss: 5.26 - ETA: 30s - loss: 5.26 - ETA: 30s - loss: 5.26 - ETA: 30s - loss: 5.26 - ETA: 30s - loss: 5.26 - ETA: 30s - loss: 5.26 - ETA: 30s - loss: 5.26 - ETA: 30s - loss: 5.26 - ETA: 30s - loss: 5.26 - ETA: 30s - loss: 5.26 - ETA: 30s - loss: 5.26 - ETA: 30s - loss: 5.26 - ETA: 30s - loss: 5.26 - ETA: 30s - loss: 5.26 - ETA: 30s - loss: 5.26 - ETA: 30s - loss: 5.26 - ETA: 30s - loss: 5.26 - ETA: 30s - loss: 5.26 - ETA: 30s - loss: 5.26 - ETA: 30s - loss: 5.26 - ETA: 30s - loss: 5.26 - ETA: 30s - loss: 5.26 - ETA: 29s - loss: 5.26 - ETA: 29s - loss: 5.26 - ETA: 29s - loss: 5.26 - ETA: 29s - loss: 5.26 - ETA: 29s - loss: 5.26 - ETA: 29s - loss: 5.26 - ETA: 29s - loss: 5.26 - ETA: 29s - loss: 5.26 - ETA: 29s - loss: 5.26 - ETA: 29s - loss: 5.26 - ETA: 29s - loss: 5.26 - ETA: 29s - loss: 5.26 - ETA: 29s - loss: 5.26 - ETA: 29s - loss: 5.26 - ETA: 29s - loss: 5.26 - ETA: 29s - loss: 5.26 - ETA: 28s - loss: 5.26 - ETA: 28s - loss: 5.26 - ETA: 28s - loss: 5.26 - ETA: 28s - loss: 5.26 - ETA: 28s - loss: 5.26 - ETA: 28s - loss: 5.26 - ETA: 28s - loss: 5.26 - ETA: 28s - loss: 5.2617"
     ]
    },
    {
     "name": "stdout",
     "output_type": "stream",
     "text": [
      "238944/291908 [=======================>......] - ETA: 28s - loss: 5.26 - ETA: 28s - loss: 5.26 - ETA: 28s - loss: 5.26 - ETA: 28s - loss: 5.26 - ETA: 28s - loss: 5.26 - ETA: 28s - loss: 5.26 - ETA: 28s - loss: 5.26 - ETA: 27s - loss: 5.26 - ETA: 27s - loss: 5.26 - ETA: 27s - loss: 5.26 - ETA: 27s - loss: 5.26 - ETA: 27s - loss: 5.26 - ETA: 27s - loss: 5.26 - ETA: 27s - loss: 5.26 - ETA: 27s - loss: 5.26 - ETA: 27s - loss: 5.26 - ETA: 27s - loss: 5.26 - ETA: 27s - loss: 5.26 - ETA: 27s - loss: 5.26 - ETA: 27s - loss: 5.26 - ETA: 27s - loss: 5.26 - ETA: 27s - loss: 5.26 - ETA: 27s - loss: 5.25 - ETA: 27s - loss: 5.25 - ETA: 27s - loss: 5.25 - ETA: 27s - loss: 5.25 - ETA: 27s - loss: 5.25 - ETA: 27s - loss: 5.25 - ETA: 27s - loss: 5.25 - ETA: 27s - loss: 5.25 - ETA: 27s - loss: 5.25 - ETA: 27s - loss: 5.25 - ETA: 26s - loss: 5.25 - ETA: 26s - loss: 5.25 - ETA: 26s - loss: 5.25 - ETA: 26s - loss: 5.25 - ETA: 26s - loss: 5.25 - ETA: 26s - loss: 5.25 - ETA: 26s - loss: 5.25 - ETA: 26s - loss: 5.25 - ETA: 26s - loss: 5.25 - ETA: 26s - loss: 5.25 - ETA: 26s - loss: 5.25 - ETA: 26s - loss: 5.25 - ETA: 26s - loss: 5.25 - ETA: 26s - loss: 5.25 - ETA: 26s - loss: 5.25 - ETA: 26s - loss: 5.25 - ETA: 26s - loss: 5.25 - ETA: 26s - loss: 5.25 - ETA: 26s - loss: 5.25 - ETA: 26s - loss: 5.25 - ETA: 26s - loss: 5.25 - ETA: 26s - loss: 5.25 - ETA: 25s - loss: 5.25 - ETA: 25s - loss: 5.25 - ETA: 25s - loss: 5.25 - ETA: 25s - loss: 5.25 - ETA: 25s - loss: 5.25 - ETA: 25s - loss: 5.25 - ETA: 25s - loss: 5.25 - ETA: 25s - loss: 5.25 - ETA: 25s - loss: 5.25 - ETA: 25s - loss: 5.25 - ETA: 25s - loss: 5.25 - ETA: 25s - loss: 5.25 - ETA: 25s - loss: 5.25 - ETA: 25s - loss: 5.25 - ETA: 25s - loss: 5.25 - ETA: 25s - loss: 5.25 - ETA: 25s - loss: 5.25 - ETA: 25s - loss: 5.25 - ETA: 25s - loss: 5.25 - ETA: 24s - loss: 5.25 - ETA: 24s - loss: 5.25 - ETA: 24s - loss: 5.25 - ETA: 24s - loss: 5.25 - ETA: 24s - loss: 5.25 - ETA: 24s - loss: 5.25 - ETA: 24s - loss: 5.25 - ETA: 24s - loss: 5.25 - ETA: 24s - loss: 5.25 - ETA: 24s - loss: 5.25 - ETA: 24s - loss: 5.25 - ETA: 24s - loss: 5.25 - ETA: 24s - loss: 5.25 - ETA: 24s - loss: 5.25 - ETA: 24s - loss: 5.25 - ETA: 24s - loss: 5.25 - ETA: 24s - loss: 5.25 - ETA: 24s - loss: 5.25 - ETA: 24s - loss: 5.25 - ETA: 24s - loss: 5.25 - ETA: 24s - loss: 5.25 - ETA: 24s - loss: 5.25 - ETA: 24s - loss: 5.25 - ETA: 24s - loss: 5.25 - ETA: 24s - loss: 5.25 - ETA: 23s - loss: 5.25 - ETA: 23s - loss: 5.25 - ETA: 23s - loss: 5.25 - ETA: 23s - loss: 5.25 - ETA: 23s - loss: 5.25 - ETA: 23s - loss: 5.25 - ETA: 23s - loss: 5.25 - ETA: 23s - loss: 5.25 - ETA: 23s - loss: 5.25 - ETA: 23s - loss: 5.25 - ETA: 23s - loss: 5.25 - ETA: 23s - loss: 5.25 - ETA: 23s - loss: 5.25 - ETA: 23s - loss: 5.25 - ETA: 23s - loss: 5.25 - ETA: 23s - loss: 5.25 - ETA: 23s - loss: 5.25 - ETA: 23s - loss: 5.25 - ETA: 23s - loss: 5.25 - ETA: 23s - loss: 5.24 - ETA: 23s - loss: 5.24 - ETA: 23s - loss: 5.24 - ETA: 23s - loss: 5.24 - ETA: 22s - loss: 5.25 - ETA: 22s - loss: 5.25 - ETA: 22s - loss: 5.25 - ETA: 22s - loss: 5.24 - ETA: 22s - loss: 5.24 - ETA: 22s - loss: 5.24 - ETA: 22s - loss: 5.24 - ETA: 22s - loss: 5.24 - ETA: 22s - loss: 5.24 - ETA: 22s - loss: 5.24 - ETA: 22s - loss: 5.24 - ETA: 22s - loss: 5.24 - ETA: 22s - loss: 5.24 - ETA: 22s - loss: 5.24 - ETA: 22s - loss: 5.24 - ETA: 21s - loss: 5.24 - ETA: 21s - loss: 5.24 - ETA: 21s - loss: 5.24 - ETA: 21s - loss: 5.24 - ETA: 21s - loss: 5.24 - ETA: 21s - loss: 5.24 - ETA: 21s - loss: 5.24 - ETA: 21s - loss: 5.24 - ETA: 21s - loss: 5.25 - ETA: 21s - loss: 5.25 - ETA: 21s - loss: 5.24 - ETA: 21s - loss: 5.24 - ETA: 21s - loss: 5.24 - ETA: 21s - loss: 5.24 - ETA: 20s - loss: 5.24 - ETA: 20s - loss: 5.24 - ETA: 20s - loss: 5.24 - ETA: 20s - loss: 5.24 - ETA: 20s - loss: 5.24 - ETA: 20s - loss: 5.24 - ETA: 20s - loss: 5.24 - ETA: 20s - loss: 5.24 - ETA: 20s - loss: 5.24 - ETA: 20s - loss: 5.24 - ETA: 20s - loss: 5.24 - ETA: 20s - loss: 5.24 - ETA: 20s - loss: 5.24 - ETA: 20s - loss: 5.24 - ETA: 19s - loss: 5.24 - ETA: 19s - loss: 5.24 - ETA: 19s - loss: 5.24 - ETA: 19s - loss: 5.24 - ETA: 19s - loss: 5.24 - ETA: 19s - loss: 5.24 - ETA: 19s - loss: 5.24 - ETA: 19s - loss: 5.24 - ETA: 19s - loss: 5.24 - ETA: 19s - loss: 5.24 - ETA: 19s - loss: 5.24 - ETA: 19s - loss: 5.24 - ETA: 19s - loss: 5.24 - ETA: 19s - loss: 5.24 - ETA: 19s - loss: 5.24 - ETA: 18s - loss: 5.24 - ETA: 18s - loss: 5.24 - ETA: 18s - loss: 5.24 - ETA: 18s - loss: 5.24 - ETA: 18s - loss: 5.24 - ETA: 18s - loss: 5.24 - ETA: 18s - loss: 5.24 - ETA: 18s - loss: 5.24 - ETA: 18s - loss: 5.24 - ETA: 18s - loss: 5.24 - ETA: 18s - loss: 5.24 - ETA: 18s - loss: 5.24 - ETA: 18s - loss: 5.24 - ETA: 18s - loss: 5.24 - ETA: 18s - loss: 5.24 - ETA: 17s - loss: 5.24 - ETA: 17s - loss: 5.24 - ETA: 17s - loss: 5.24 - ETA: 17s - loss: 5.24 - ETA: 17s - loss: 5.24 - ETA: 17s - loss: 5.24 - ETA: 17s - loss: 5.24 - ETA: 17s - loss: 5.24 - ETA: 17s - loss: 5.24 - ETA: 17s - loss: 5.24 - ETA: 17s - loss: 5.24 - ETA: 17s - loss: 5.24 - ETA: 17s - loss: 5.24 - ETA: 17s - loss: 5.24 - ETA: 17s - loss: 5.24 - ETA: 16s - loss: 5.24 - ETA: 16s - loss: 5.24 - ETA: 16s - loss: 5.24 - ETA: 16s - loss: 5.24 - ETA: 16s - loss: 5.24 - ETA: 16s - loss: 5.24 - ETA: 16s - loss: 5.24 - ETA: 16s - loss: 5.24 - ETA: 16s - loss: 5.24 - ETA: 16s - loss: 5.24 - ETA: 16s - loss: 5.24 - ETA: 16s - loss: 5.24 - ETA: 16s - loss: 5.24 - ETA: 16s - loss: 5.24 - ETA: 16s - loss: 5.24 - ETA: 15s - loss: 5.24 - ETA: 15s - loss: 5.24 - ETA: 15s - loss: 5.24 - ETA: 15s - loss: 5.24 - ETA: 15s - loss: 5.24 - ETA: 15s - loss: 5.24 - ETA: 15s - loss: 5.24 - ETA: 15s - loss: 5.24 - ETA: 15s - loss: 5.24 - ETA: 15s - loss: 5.24 - ETA: 15s - loss: 5.24 - ETA: 15s - loss: 5.24 - ETA: 15s - loss: 5.24 - ETA: 15s - loss: 5.24 - ETA: 15s - loss: 5.24 - ETA: 14s - loss: 5.24 - ETA: 14s - loss: 5.24 - ETA: 14s - loss: 5.24 - ETA: 14s - loss: 5.24 - ETA: 14s - loss: 5.24 - ETA: 14s - loss: 5.24 - ETA: 14s - loss: 5.24 - ETA: 14s - loss: 5.24 - ETA: 14s - loss: 5.24 - ETA: 14s - loss: 5.24 - ETA: 14s - loss: 5.24 - ETA: 14s - loss: 5.24 - ETA: 14s - loss: 5.24 - ETA: 14s - loss: 5.24 - ETA: 14s - loss: 5.24 - ETA: 13s - loss: 5.24 - ETA: 13s - loss: 5.24 - ETA: 13s - loss: 5.24 - ETA: 13s - loss: 5.24 - ETA: 13s - loss: 5.24 - ETA: 13s - loss: 5.24 - ETA: 13s - loss: 5.24 - ETA: 13s - loss: 5.24 - ETA: 13s - loss: 5.23 - ETA: 13s - loss: 5.23 - ETA: 13s - loss: 5.23 - ETA: 13s - loss: 5.23 - ETA: 13s - loss: 5.23 - ETA: 13s - loss: 5.23 - ETA: 13s - loss: 5.23 - ETA: 12s - loss: 5.23 - ETA: 12s - loss: 5.23 - ETA: 12s - loss: 5.23 - ETA: 12s - loss: 5.23 - ETA: 12s - loss: 5.23 - ETA: 12s - loss: 5.23 - ETA: 12s - loss: 5.23 - ETA: 12s - loss: 5.23 - ETA: 12s - loss: 5.23 - ETA: 12s - loss: 5.23 - ETA: 12s - loss: 5.23 - ETA: 12s - loss: 5.23 - ETA: 12s - loss: 5.23 - ETA: 12s - loss: 5.23 - ETA: 12s - loss: 5.23 - ETA: 12s - loss: 5.23 - ETA: 11s - loss: 5.23 - ETA: 11s - loss: 5.23 - ETA: 11s - loss: 5.23 - ETA: 11s - loss: 5.23 - ETA: 11s - loss: 5.23 - ETA: 11s - loss: 5.23 - ETA: 11s - loss: 5.23 - ETA: 11s - loss: 5.23 - ETA: 11s - loss: 5.23 - ETA: 11s - loss: 5.23 - ETA: 11s - loss: 5.23 - ETA: 11s - loss: 5.23 - ETA: 11s - loss: 5.23 - ETA: 11s - loss: 5.23 - ETA: 11s - loss: 5.23 - ETA: 10s - loss: 5.23 - ETA: 10s - loss: 5.23 - ETA: 10s - loss: 5.23 - ETA: 10s - loss: 5.23 - ETA: 10s - loss: 5.23 - ETA: 10s - loss: 5.23 - ETA: 10s - loss: 5.23 - ETA: 10s - loss: 5.23 - ETA: 10s - loss: 5.23 - ETA: 10s - loss: 5.23 - ETA: 10s - loss: 5.23 - ETA: 10s - loss: 5.23 - ETA: 10s - loss: 5.23 - ETA: 10s - loss: 5.23 - ETA: 10s - loss: 5.23 - ETA: 10s - loss: 5.23 - ETA: 9s - loss: 5.2361 - ETA: 9s - loss: 5.235 - ETA: 9s - loss: 5.235 - ETA: 9s - loss: 5.235 - ETA: 9s - loss: 5.235 - ETA: 9s - loss: 5.235 - ETA: 9s - loss: 5.235 - ETA: 9s - loss: 5.235 - ETA: 9s - loss: 5.235 - ETA: 9s - loss: 5.234 - ETA: 9s - loss: 5.234 - ETA: 9s - loss: 5.234 - ETA: 9s - loss: 5.234 - ETA: 9s - loss: 5.233 - ETA: 9s - loss: 5.233 - ETA: 9s - loss: 5.233 - ETA: 8s - loss: 5.233 - ETA: 8s - loss: 5.233 - ETA: 8s - loss: 5.232 - ETA: 8s - loss: 5.233 - ETA: 8s - loss: 5.232 - ETA: 8s - loss: 5.232 - ETA: 8s - loss: 5.232 - ETA: 8s - loss: 5.2328"
     ]
    },
    {
     "name": "stdout",
     "output_type": "stream",
     "text": [
      "291908/291908 [==============================] - ETA: 8s - loss: 5.232 - ETA: 8s - loss: 5.232 - ETA: 8s - loss: 5.232 - ETA: 8s - loss: 5.232 - ETA: 8s - loss: 5.232 - ETA: 8s - loss: 5.233 - ETA: 8s - loss: 5.233 - ETA: 8s - loss: 5.233 - ETA: 8s - loss: 5.232 - ETA: 7s - loss: 5.232 - ETA: 7s - loss: 5.232 - ETA: 7s - loss: 5.232 - ETA: 7s - loss: 5.232 - ETA: 7s - loss: 5.232 - ETA: 7s - loss: 5.231 - ETA: 7s - loss: 5.231 - ETA: 7s - loss: 5.231 - ETA: 7s - loss: 5.231 - ETA: 7s - loss: 5.231 - ETA: 7s - loss: 5.230 - ETA: 7s - loss: 5.230 - ETA: 7s - loss: 5.230 - ETA: 7s - loss: 5.230 - ETA: 7s - loss: 5.229 - ETA: 7s - loss: 5.229 - ETA: 6s - loss: 5.229 - ETA: 6s - loss: 5.230 - ETA: 6s - loss: 5.230 - ETA: 6s - loss: 5.230 - ETA: 6s - loss: 5.230 - ETA: 6s - loss: 5.230 - ETA: 6s - loss: 5.230 - ETA: 6s - loss: 5.230 - ETA: 6s - loss: 5.230 - ETA: 6s - loss: 5.230 - ETA: 6s - loss: 5.230 - ETA: 6s - loss: 5.229 - ETA: 6s - loss: 5.229 - ETA: 6s - loss: 5.229 - ETA: 6s - loss: 5.229 - ETA: 6s - loss: 5.229 - ETA: 5s - loss: 5.229 - ETA: 5s - loss: 5.229 - ETA: 5s - loss: 5.229 - ETA: 5s - loss: 5.229 - ETA: 5s - loss: 5.229 - ETA: 5s - loss: 5.228 - ETA: 5s - loss: 5.228 - ETA: 5s - loss: 5.228 - ETA: 5s - loss: 5.228 - ETA: 5s - loss: 5.228 - ETA: 5s - loss: 5.228 - ETA: 5s - loss: 5.228 - ETA: 5s - loss: 5.228 - ETA: 5s - loss: 5.228 - ETA: 5s - loss: 5.228 - ETA: 5s - loss: 5.228 - ETA: 4s - loss: 5.228 - ETA: 4s - loss: 5.227 - ETA: 4s - loss: 5.227 - ETA: 4s - loss: 5.227 - ETA: 4s - loss: 5.227 - ETA: 4s - loss: 5.227 - ETA: 4s - loss: 5.227 - ETA: 4s - loss: 5.227 - ETA: 4s - loss: 5.227 - ETA: 4s - loss: 5.227 - ETA: 4s - loss: 5.227 - ETA: 4s - loss: 5.227 - ETA: 4s - loss: 5.227 - ETA: 4s - loss: 5.226 - ETA: 4s - loss: 5.226 - ETA: 4s - loss: 5.226 - ETA: 3s - loss: 5.225 - ETA: 3s - loss: 5.225 - ETA: 3s - loss: 5.225 - ETA: 3s - loss: 5.225 - ETA: 3s - loss: 5.225 - ETA: 3s - loss: 5.225 - ETA: 3s - loss: 5.225 - ETA: 3s - loss: 5.225 - ETA: 3s - loss: 5.225 - ETA: 3s - loss: 5.225 - ETA: 3s - loss: 5.225 - ETA: 3s - loss: 5.225 - ETA: 3s - loss: 5.225 - ETA: 3s - loss: 5.225 - ETA: 3s - loss: 5.224 - ETA: 3s - loss: 5.224 - ETA: 2s - loss: 5.224 - ETA: 2s - loss: 5.224 - ETA: 2s - loss: 5.224 - ETA: 2s - loss: 5.224 - ETA: 2s - loss: 5.224 - ETA: 2s - loss: 5.224 - ETA: 2s - loss: 5.223 - ETA: 2s - loss: 5.223 - ETA: 2s - loss: 5.223 - ETA: 2s - loss: 5.223 - ETA: 2s - loss: 5.223 - ETA: 2s - loss: 5.223 - ETA: 2s - loss: 5.223 - ETA: 2s - loss: 5.223 - ETA: 2s - loss: 5.223 - ETA: 2s - loss: 5.222 - ETA: 2s - loss: 5.222 - ETA: 1s - loss: 5.222 - ETA: 1s - loss: 5.222 - ETA: 1s - loss: 5.222 - ETA: 1s - loss: 5.222 - ETA: 1s - loss: 5.222 - ETA: 1s - loss: 5.222 - ETA: 1s - loss: 5.222 - ETA: 1s - loss: 5.222 - ETA: 1s - loss: 5.222 - ETA: 1s - loss: 5.222 - ETA: 1s - loss: 5.222 - ETA: 1s - loss: 5.222 - ETA: 1s - loss: 5.222 - ETA: 1s - loss: 5.221 - ETA: 1s - loss: 5.221 - ETA: 1s - loss: 5.221 - ETA: 1s - loss: 5.221 - ETA: 0s - loss: 5.221 - ETA: 0s - loss: 5.221 - ETA: 0s - loss: 5.221 - ETA: 0s - loss: 5.221 - ETA: 0s - loss: 5.220 - ETA: 0s - loss: 5.220 - ETA: 0s - loss: 5.220 - ETA: 0s - loss: 5.220 - ETA: 0s - loss: 5.220 - ETA: 0s - loss: 5.220 - ETA: 0s - loss: 5.219 - ETA: 0s - loss: 5.219 - ETA: 0s - loss: 5.219 - ETA: 0s - loss: 5.219 - ETA: 0s - loss: 5.219 - ETA: 0s - loss: 5.219 - ETA: 0s - loss: 5.219 - 47s 160us/step - loss: 5.2196\n",
      "Epoch 3/5\n"
     ]
    },
    {
     "name": "stdout",
     "output_type": "stream",
     "text": [
      "128544/291908 [============>.................] - ETA: 1:11 - loss: 5.289 - ETA: 46s - loss: 5.126 - ETA: 45s - loss: 5.12 - ETA: 44s - loss: 5.10 - ETA: 44s - loss: 5.10 - ETA: 44s - loss: 5.14 - ETA: 43s - loss: 5.13 - ETA: 43s - loss: 5.14 - ETA: 43s - loss: 5.16 - ETA: 43s - loss: 5.16 - ETA: 43s - loss: 5.15 - ETA: 43s - loss: 5.14 - ETA: 43s - loss: 5.15 - ETA: 43s - loss: 5.16 - ETA: 43s - loss: 5.15 - ETA: 43s - loss: 5.15 - ETA: 43s - loss: 5.15 - ETA: 42s - loss: 5.15 - ETA: 42s - loss: 5.16 - ETA: 42s - loss: 5.16 - ETA: 42s - loss: 5.16 - ETA: 43s - loss: 5.16 - ETA: 43s - loss: 5.15 - ETA: 43s - loss: 5.15 - ETA: 42s - loss: 5.16 - ETA: 42s - loss: 5.15 - ETA: 42s - loss: 5.15 - ETA: 42s - loss: 5.16 - ETA: 42s - loss: 5.16 - ETA: 42s - loss: 5.16 - ETA: 42s - loss: 5.16 - ETA: 42s - loss: 5.16 - ETA: 42s - loss: 5.16 - ETA: 42s - loss: 5.16 - ETA: 42s - loss: 5.17 - ETA: 42s - loss: 5.17 - ETA: 42s - loss: 5.17 - ETA: 42s - loss: 5.17 - ETA: 42s - loss: 5.16 - ETA: 42s - loss: 5.16 - ETA: 41s - loss: 5.15 - ETA: 41s - loss: 5.15 - ETA: 41s - loss: 5.15 - ETA: 41s - loss: 5.15 - ETA: 41s - loss: 5.15 - ETA: 41s - loss: 5.15 - ETA: 41s - loss: 5.15 - ETA: 41s - loss: 5.15 - ETA: 41s - loss: 5.15 - ETA: 41s - loss: 5.15 - ETA: 41s - loss: 5.15 - ETA: 41s - loss: 5.15 - ETA: 41s - loss: 5.15 - ETA: 41s - loss: 5.15 - ETA: 41s - loss: 5.15 - ETA: 41s - loss: 5.15 - ETA: 41s - loss: 5.15 - ETA: 41s - loss: 5.15 - ETA: 40s - loss: 5.15 - ETA: 40s - loss: 5.15 - ETA: 40s - loss: 5.15 - ETA: 40s - loss: 5.15 - ETA: 40s - loss: 5.15 - ETA: 40s - loss: 5.15 - ETA: 40s - loss: 5.15 - ETA: 40s - loss: 5.15 - ETA: 40s - loss: 5.15 - ETA: 40s - loss: 5.15 - ETA: 40s - loss: 5.15 - ETA: 40s - loss: 5.15 - ETA: 40s - loss: 5.15 - ETA: 40s - loss: 5.15 - ETA: 40s - loss: 5.15 - ETA: 40s - loss: 5.15 - ETA: 39s - loss: 5.14 - ETA: 39s - loss: 5.14 - ETA: 39s - loss: 5.15 - ETA: 39s - loss: 5.15 - ETA: 39s - loss: 5.15 - ETA: 39s - loss: 5.15 - ETA: 39s - loss: 5.15 - ETA: 39s - loss: 5.15 - ETA: 39s - loss: 5.15 - ETA: 39s - loss: 5.15 - ETA: 39s - loss: 5.15 - ETA: 39s - loss: 5.15 - ETA: 39s - loss: 5.15 - ETA: 39s - loss: 5.15 - ETA: 39s - loss: 5.15 - ETA: 39s - loss: 5.15 - ETA: 39s - loss: 5.15 - ETA: 39s - loss: 5.15 - ETA: 39s - loss: 5.15 - ETA: 39s - loss: 5.15 - ETA: 39s - loss: 5.15 - ETA: 38s - loss: 5.16 - ETA: 38s - loss: 5.15 - ETA: 38s - loss: 5.15 - ETA: 38s - loss: 5.15 - ETA: 38s - loss: 5.15 - ETA: 38s - loss: 5.15 - ETA: 38s - loss: 5.15 - ETA: 38s - loss: 5.15 - ETA: 38s - loss: 5.15 - ETA: 38s - loss: 5.15 - ETA: 38s - loss: 5.15 - ETA: 38s - loss: 5.15 - ETA: 38s - loss: 5.15 - ETA: 38s - loss: 5.15 - ETA: 38s - loss: 5.15 - ETA: 38s - loss: 5.15 - ETA: 37s - loss: 5.15 - ETA: 37s - loss: 5.15 - ETA: 37s - loss: 5.15 - ETA: 37s - loss: 5.15 - ETA: 37s - loss: 5.15 - ETA: 37s - loss: 5.15 - ETA: 37s - loss: 5.15 - ETA: 37s - loss: 5.15 - ETA: 37s - loss: 5.15 - ETA: 37s - loss: 5.15 - ETA: 37s - loss: 5.15 - ETA: 37s - loss: 5.15 - ETA: 37s - loss: 5.15 - ETA: 37s - loss: 5.15 - ETA: 37s - loss: 5.15 - ETA: 37s - loss: 5.15 - ETA: 36s - loss: 5.15 - ETA: 36s - loss: 5.15 - ETA: 36s - loss: 5.15 - ETA: 36s - loss: 5.15 - ETA: 36s - loss: 5.15 - ETA: 36s - loss: 5.15 - ETA: 36s - loss: 5.15 - ETA: 36s - loss: 5.15 - ETA: 36s - loss: 5.15 - ETA: 36s - loss: 5.15 - ETA: 36s - loss: 5.15 - ETA: 36s - loss: 5.15 - ETA: 36s - loss: 5.15 - ETA: 36s - loss: 5.15 - ETA: 36s - loss: 5.15 - ETA: 36s - loss: 5.15 - ETA: 36s - loss: 5.15 - ETA: 36s - loss: 5.15 - ETA: 36s - loss: 5.15 - ETA: 36s - loss: 5.15 - ETA: 36s - loss: 5.15 - ETA: 35s - loss: 5.15 - ETA: 35s - loss: 5.15 - ETA: 35s - loss: 5.15 - ETA: 35s - loss: 5.15 - ETA: 35s - loss: 5.15 - ETA: 35s - loss: 5.15 - ETA: 35s - loss: 5.15 - ETA: 35s - loss: 5.15 - ETA: 35s - loss: 5.15 - ETA: 35s - loss: 5.15 - ETA: 35s - loss: 5.15 - ETA: 35s - loss: 5.15 - ETA: 35s - loss: 5.15 - ETA: 35s - loss: 5.15 - ETA: 35s - loss: 5.15 - ETA: 35s - loss: 5.15 - ETA: 35s - loss: 5.15 - ETA: 35s - loss: 5.15 - ETA: 34s - loss: 5.15 - ETA: 34s - loss: 5.15 - ETA: 34s - loss: 5.15 - ETA: 34s - loss: 5.15 - ETA: 34s - loss: 5.15 - ETA: 34s - loss: 5.15 - ETA: 34s - loss: 5.15 - ETA: 34s - loss: 5.15 - ETA: 34s - loss: 5.15 - ETA: 34s - loss: 5.15 - ETA: 34s - loss: 5.15 - ETA: 34s - loss: 5.15 - ETA: 34s - loss: 5.15 - ETA: 34s - loss: 5.15 - ETA: 34s - loss: 5.15 - ETA: 33s - loss: 5.15 - ETA: 33s - loss: 5.15 - ETA: 33s - loss: 5.15 - ETA: 33s - loss: 5.15 - ETA: 33s - loss: 5.15 - ETA: 33s - loss: 5.15 - ETA: 33s - loss: 5.15 - ETA: 33s - loss: 5.15 - ETA: 33s - loss: 5.15 - ETA: 33s - loss: 5.15 - ETA: 33s - loss: 5.15 - ETA: 33s - loss: 5.15 - ETA: 33s - loss: 5.15 - ETA: 33s - loss: 5.15 - ETA: 32s - loss: 5.15 - ETA: 32s - loss: 5.15 - ETA: 32s - loss: 5.15 - ETA: 32s - loss: 5.15 - ETA: 32s - loss: 5.15 - ETA: 32s - loss: 5.15 - ETA: 32s - loss: 5.15 - ETA: 32s - loss: 5.15 - ETA: 32s - loss: 5.15 - ETA: 32s - loss: 5.15 - ETA: 32s - loss: 5.15 - ETA: 32s - loss: 5.15 - ETA: 32s - loss: 5.14 - ETA: 32s - loss: 5.15 - ETA: 32s - loss: 5.14 - ETA: 32s - loss: 5.14 - ETA: 31s - loss: 5.14 - ETA: 31s - loss: 5.14 - ETA: 31s - loss: 5.14 - ETA: 31s - loss: 5.14 - ETA: 31s - loss: 5.14 - ETA: 31s - loss: 5.14 - ETA: 31s - loss: 5.14 - ETA: 31s - loss: 5.14 - ETA: 31s - loss: 5.14 - ETA: 31s - loss: 5.14 - ETA: 31s - loss: 5.14 - ETA: 31s - loss: 5.14 - ETA: 31s - loss: 5.14 - ETA: 31s - loss: 5.14 - ETA: 31s - loss: 5.14 - ETA: 31s - loss: 5.14 - ETA: 30s - loss: 5.14 - ETA: 30s - loss: 5.14 - ETA: 30s - loss: 5.14 - ETA: 30s - loss: 5.14 - ETA: 30s - loss: 5.14 - ETA: 30s - loss: 5.14 - ETA: 30s - loss: 5.14 - ETA: 30s - loss: 5.14 - ETA: 30s - loss: 5.14 - ETA: 30s - loss: 5.14 - ETA: 30s - loss: 5.14 - ETA: 30s - loss: 5.14 - ETA: 30s - loss: 5.14 - ETA: 30s - loss: 5.14 - ETA: 30s - loss: 5.14 - ETA: 30s - loss: 5.14 - ETA: 30s - loss: 5.14 - ETA: 30s - loss: 5.14 - ETA: 29s - loss: 5.14 - ETA: 29s - loss: 5.14 - ETA: 29s - loss: 5.14 - ETA: 29s - loss: 5.14 - ETA: 29s - loss: 5.14 - ETA: 29s - loss: 5.14 - ETA: 29s - loss: 5.14 - ETA: 29s - loss: 5.14 - ETA: 29s - loss: 5.14 - ETA: 29s - loss: 5.14 - ETA: 29s - loss: 5.14 - ETA: 29s - loss: 5.14 - ETA: 29s - loss: 5.14 - ETA: 29s - loss: 5.14 - ETA: 29s - loss: 5.14 - ETA: 29s - loss: 5.14 - ETA: 29s - loss: 5.14 - ETA: 28s - loss: 5.14 - ETA: 28s - loss: 5.14 - ETA: 28s - loss: 5.14 - ETA: 28s - loss: 5.14 - ETA: 28s - loss: 5.14 - ETA: 28s - loss: 5.14 - ETA: 28s - loss: 5.14 - ETA: 28s - loss: 5.14 - ETA: 28s - loss: 5.14 - ETA: 28s - loss: 5.14 - ETA: 28s - loss: 5.14 - ETA: 28s - loss: 5.14 - ETA: 28s - loss: 5.14 - ETA: 28s - loss: 5.14 - ETA: 28s - loss: 5.14 - ETA: 28s - loss: 5.14 - ETA: 28s - loss: 5.14 - ETA: 27s - loss: 5.14 - ETA: 27s - loss: 5.14 - ETA: 27s - loss: 5.14 - ETA: 27s - loss: 5.14 - ETA: 27s - loss: 5.14 - ETA: 27s - loss: 5.14 - ETA: 27s - loss: 5.14 - ETA: 27s - loss: 5.14 - ETA: 27s - loss: 5.14 - ETA: 27s - loss: 5.14 - ETA: 27s - loss: 5.14 - ETA: 27s - loss: 5.14 - ETA: 27s - loss: 5.14 - ETA: 27s - loss: 5.14 - ETA: 27s - loss: 5.14 - ETA: 27s - loss: 5.14 - ETA: 26s - loss: 5.14 - ETA: 26s - loss: 5.14 - ETA: 26s - loss: 5.14 - ETA: 26s - loss: 5.14 - ETA: 26s - loss: 5.14 - ETA: 26s - loss: 5.14 - ETA: 26s - loss: 5.14 - ETA: 26s - loss: 5.14 - ETA: 26s - loss: 5.14 - ETA: 26s - loss: 5.14 - ETA: 26s - loss: 5.14 - ETA: 26s - loss: 5.14 - ETA: 26s - loss: 5.14 - ETA: 26s - loss: 5.14 - ETA: 26s - loss: 5.14 - ETA: 26s - loss: 5.14 - ETA: 25s - loss: 5.14 - ETA: 25s - loss: 5.14 - ETA: 25s - loss: 5.14 - ETA: 25s - loss: 5.14 - ETA: 25s - loss: 5.14 - ETA: 25s - loss: 5.14 - ETA: 25s - loss: 5.14 - ETA: 25s - loss: 5.14 - ETA: 25s - loss: 5.13 - ETA: 25s - loss: 5.13 - ETA: 25s - loss: 5.13 - ETA: 25s - loss: 5.13 - ETA: 25s - loss: 5.13 - ETA: 25s - loss: 5.13 - ETA: 25s - loss: 5.13 - ETA: 25s - loss: 5.13 - ETA: 25s - loss: 5.13 - ETA: 24s - loss: 5.13 - ETA: 24s - loss: 5.13 - ETA: 24s - loss: 5.13 - ETA: 24s - loss: 5.13 - ETA: 24s - loss: 5.13 - ETA: 24s - loss: 5.13 - ETA: 24s - loss: 5.13 - ETA: 24s - loss: 5.13 - ETA: 24s - loss: 5.13 - ETA: 24s - loss: 5.13 - ETA: 24s - loss: 5.13 - ETA: 24s - loss: 5.1377"
     ]
    },
    {
     "name": "stdout",
     "output_type": "stream",
     "text": [
      "258912/291908 [=========================>....] - ETA: 24s - loss: 5.13 - ETA: 24s - loss: 5.13 - ETA: 24s - loss: 5.13 - ETA: 24s - loss: 5.13 - ETA: 24s - loss: 5.13 - ETA: 23s - loss: 5.13 - ETA: 23s - loss: 5.13 - ETA: 23s - loss: 5.13 - ETA: 23s - loss: 5.13 - ETA: 23s - loss: 5.13 - ETA: 23s - loss: 5.13 - ETA: 23s - loss: 5.13 - ETA: 23s - loss: 5.13 - ETA: 23s - loss: 5.13 - ETA: 23s - loss: 5.13 - ETA: 23s - loss: 5.13 - ETA: 23s - loss: 5.13 - ETA: 23s - loss: 5.13 - ETA: 23s - loss: 5.13 - ETA: 23s - loss: 5.13 - ETA: 23s - loss: 5.13 - ETA: 22s - loss: 5.13 - ETA: 22s - loss: 5.13 - ETA: 22s - loss: 5.13 - ETA: 22s - loss: 5.13 - ETA: 22s - loss: 5.13 - ETA: 22s - loss: 5.13 - ETA: 22s - loss: 5.13 - ETA: 22s - loss: 5.13 - ETA: 22s - loss: 5.13 - ETA: 22s - loss: 5.13 - ETA: 22s - loss: 5.13 - ETA: 22s - loss: 5.13 - ETA: 22s - loss: 5.13 - ETA: 22s - loss: 5.13 - ETA: 22s - loss: 5.13 - ETA: 22s - loss: 5.13 - ETA: 22s - loss: 5.13 - ETA: 21s - loss: 5.13 - ETA: 21s - loss: 5.13 - ETA: 21s - loss: 5.13 - ETA: 21s - loss: 5.13 - ETA: 21s - loss: 5.13 - ETA: 21s - loss: 5.13 - ETA: 21s - loss: 5.13 - ETA: 21s - loss: 5.13 - ETA: 21s - loss: 5.13 - ETA: 21s - loss: 5.13 - ETA: 21s - loss: 5.13 - ETA: 21s - loss: 5.13 - ETA: 21s - loss: 5.13 - ETA: 21s - loss: 5.13 - ETA: 21s - loss: 5.13 - ETA: 21s - loss: 5.13 - ETA: 21s - loss: 5.13 - ETA: 20s - loss: 5.13 - ETA: 20s - loss: 5.13 - ETA: 20s - loss: 5.13 - ETA: 20s - loss: 5.13 - ETA: 20s - loss: 5.13 - ETA: 20s - loss: 5.13 - ETA: 20s - loss: 5.13 - ETA: 20s - loss: 5.13 - ETA: 20s - loss: 5.13 - ETA: 20s - loss: 5.13 - ETA: 20s - loss: 5.13 - ETA: 20s - loss: 5.13 - ETA: 20s - loss: 5.13 - ETA: 20s - loss: 5.13 - ETA: 20s - loss: 5.13 - ETA: 20s - loss: 5.13 - ETA: 20s - loss: 5.13 - ETA: 19s - loss: 5.13 - ETA: 19s - loss: 5.13 - ETA: 19s - loss: 5.13 - ETA: 19s - loss: 5.13 - ETA: 19s - loss: 5.13 - ETA: 19s - loss: 5.13 - ETA: 19s - loss: 5.13 - ETA: 19s - loss: 5.13 - ETA: 19s - loss: 5.13 - ETA: 19s - loss: 5.13 - ETA: 19s - loss: 5.13 - ETA: 19s - loss: 5.13 - ETA: 19s - loss: 5.13 - ETA: 19s - loss: 5.13 - ETA: 19s - loss: 5.13 - ETA: 19s - loss: 5.13 - ETA: 19s - loss: 5.13 - ETA: 18s - loss: 5.13 - ETA: 18s - loss: 5.13 - ETA: 18s - loss: 5.13 - ETA: 18s - loss: 5.13 - ETA: 18s - loss: 5.13 - ETA: 18s - loss: 5.13 - ETA: 18s - loss: 5.13 - ETA: 18s - loss: 5.13 - ETA: 18s - loss: 5.13 - ETA: 18s - loss: 5.13 - ETA: 18s - loss: 5.13 - ETA: 18s - loss: 5.13 - ETA: 18s - loss: 5.13 - ETA: 18s - loss: 5.13 - ETA: 18s - loss: 5.13 - ETA: 18s - loss: 5.13 - ETA: 18s - loss: 5.13 - ETA: 17s - loss: 5.13 - ETA: 17s - loss: 5.13 - ETA: 17s - loss: 5.13 - ETA: 17s - loss: 5.13 - ETA: 17s - loss: 5.13 - ETA: 17s - loss: 5.13 - ETA: 17s - loss: 5.13 - ETA: 17s - loss: 5.13 - ETA: 17s - loss: 5.13 - ETA: 17s - loss: 5.13 - ETA: 17s - loss: 5.13 - ETA: 17s - loss: 5.13 - ETA: 17s - loss: 5.13 - ETA: 17s - loss: 5.13 - ETA: 17s - loss: 5.13 - ETA: 17s - loss: 5.13 - ETA: 17s - loss: 5.13 - ETA: 17s - loss: 5.13 - ETA: 16s - loss: 5.13 - ETA: 16s - loss: 5.13 - ETA: 16s - loss: 5.13 - ETA: 16s - loss: 5.13 - ETA: 16s - loss: 5.13 - ETA: 16s - loss: 5.13 - ETA: 16s - loss: 5.13 - ETA: 16s - loss: 5.13 - ETA: 16s - loss: 5.13 - ETA: 16s - loss: 5.13 - ETA: 16s - loss: 5.13 - ETA: 16s - loss: 5.13 - ETA: 16s - loss: 5.13 - ETA: 16s - loss: 5.13 - ETA: 16s - loss: 5.13 - ETA: 16s - loss: 5.13 - ETA: 16s - loss: 5.13 - ETA: 15s - loss: 5.13 - ETA: 15s - loss: 5.13 - ETA: 15s - loss: 5.13 - ETA: 15s - loss: 5.13 - ETA: 15s - loss: 5.13 - ETA: 15s - loss: 5.13 - ETA: 15s - loss: 5.13 - ETA: 15s - loss: 5.13 - ETA: 15s - loss: 5.13 - ETA: 15s - loss: 5.13 - ETA: 15s - loss: 5.13 - ETA: 15s - loss: 5.13 - ETA: 15s - loss: 5.13 - ETA: 15s - loss: 5.13 - ETA: 15s - loss: 5.13 - ETA: 15s - loss: 5.13 - ETA: 15s - loss: 5.13 - ETA: 15s - loss: 5.13 - ETA: 14s - loss: 5.13 - ETA: 14s - loss: 5.13 - ETA: 14s - loss: 5.13 - ETA: 14s - loss: 5.13 - ETA: 14s - loss: 5.13 - ETA: 14s - loss: 5.13 - ETA: 14s - loss: 5.13 - ETA: 14s - loss: 5.13 - ETA: 14s - loss: 5.13 - ETA: 14s - loss: 5.13 - ETA: 14s - loss: 5.13 - ETA: 14s - loss: 5.13 - ETA: 14s - loss: 5.13 - ETA: 14s - loss: 5.13 - ETA: 14s - loss: 5.13 - ETA: 14s - loss: 5.13 - ETA: 14s - loss: 5.13 - ETA: 13s - loss: 5.13 - ETA: 13s - loss: 5.13 - ETA: 13s - loss: 5.13 - ETA: 13s - loss: 5.13 - ETA: 13s - loss: 5.13 - ETA: 13s - loss: 5.13 - ETA: 13s - loss: 5.13 - ETA: 13s - loss: 5.13 - ETA: 13s - loss: 5.13 - ETA: 13s - loss: 5.13 - ETA: 13s - loss: 5.12 - ETA: 13s - loss: 5.13 - ETA: 13s - loss: 5.12 - ETA: 13s - loss: 5.12 - ETA: 13s - loss: 5.12 - ETA: 13s - loss: 5.12 - ETA: 13s - loss: 5.12 - ETA: 13s - loss: 5.12 - ETA: 12s - loss: 5.12 - ETA: 12s - loss: 5.12 - ETA: 12s - loss: 5.12 - ETA: 12s - loss: 5.12 - ETA: 12s - loss: 5.12 - ETA: 12s - loss: 5.12 - ETA: 12s - loss: 5.12 - ETA: 12s - loss: 5.12 - ETA: 12s - loss: 5.12 - ETA: 12s - loss: 5.12 - ETA: 12s - loss: 5.12 - ETA: 12s - loss: 5.12 - ETA: 12s - loss: 5.12 - ETA: 12s - loss: 5.12 - ETA: 12s - loss: 5.12 - ETA: 12s - loss: 5.12 - ETA: 12s - loss: 5.12 - ETA: 12s - loss: 5.12 - ETA: 11s - loss: 5.12 - ETA: 11s - loss: 5.12 - ETA: 11s - loss: 5.12 - ETA: 11s - loss: 5.12 - ETA: 11s - loss: 5.12 - ETA: 11s - loss: 5.12 - ETA: 11s - loss: 5.12 - ETA: 11s - loss: 5.12 - ETA: 11s - loss: 5.12 - ETA: 11s - loss: 5.12 - ETA: 11s - loss: 5.12 - ETA: 11s - loss: 5.12 - ETA: 11s - loss: 5.12 - ETA: 11s - loss: 5.12 - ETA: 11s - loss: 5.12 - ETA: 11s - loss: 5.12 - ETA: 11s - loss: 5.12 - ETA: 10s - loss: 5.12 - ETA: 10s - loss: 5.12 - ETA: 10s - loss: 5.12 - ETA: 10s - loss: 5.12 - ETA: 10s - loss: 5.12 - ETA: 10s - loss: 5.12 - ETA: 10s - loss: 5.12 - ETA: 10s - loss: 5.12 - ETA: 10s - loss: 5.12 - ETA: 10s - loss: 5.12 - ETA: 10s - loss: 5.12 - ETA: 10s - loss: 5.12 - ETA: 10s - loss: 5.12 - ETA: 10s - loss: 5.12 - ETA: 10s - loss: 5.12 - ETA: 10s - loss: 5.12 - ETA: 10s - loss: 5.12 - ETA: 10s - loss: 5.12 - ETA: 9s - loss: 5.1259 - ETA: 9s - loss: 5.126 - ETA: 9s - loss: 5.125 - ETA: 9s - loss: 5.125 - ETA: 9s - loss: 5.125 - ETA: 9s - loss: 5.125 - ETA: 9s - loss: 5.125 - ETA: 9s - loss: 5.125 - ETA: 9s - loss: 5.125 - ETA: 9s - loss: 5.125 - ETA: 9s - loss: 5.125 - ETA: 9s - loss: 5.125 - ETA: 9s - loss: 5.125 - ETA: 9s - loss: 5.125 - ETA: 9s - loss: 5.125 - ETA: 9s - loss: 5.125 - ETA: 9s - loss: 5.125 - ETA: 9s - loss: 5.125 - ETA: 8s - loss: 5.125 - ETA: 8s - loss: 5.125 - ETA: 8s - loss: 5.125 - ETA: 8s - loss: 5.125 - ETA: 8s - loss: 5.125 - ETA: 8s - loss: 5.125 - ETA: 8s - loss: 5.125 - ETA: 8s - loss: 5.124 - ETA: 8s - loss: 5.124 - ETA: 8s - loss: 5.124 - ETA: 8s - loss: 5.124 - ETA: 8s - loss: 5.124 - ETA: 8s - loss: 5.124 - ETA: 8s - loss: 5.124 - ETA: 8s - loss: 5.124 - ETA: 8s - loss: 5.124 - ETA: 8s - loss: 5.124 - ETA: 7s - loss: 5.124 - ETA: 7s - loss: 5.124 - ETA: 7s - loss: 5.124 - ETA: 7s - loss: 5.124 - ETA: 7s - loss: 5.124 - ETA: 7s - loss: 5.125 - ETA: 7s - loss: 5.124 - ETA: 7s - loss: 5.125 - ETA: 7s - loss: 5.125 - ETA: 7s - loss: 5.125 - ETA: 7s - loss: 5.125 - ETA: 7s - loss: 5.125 - ETA: 7s - loss: 5.125 - ETA: 7s - loss: 5.125 - ETA: 7s - loss: 5.124 - ETA: 7s - loss: 5.124 - ETA: 7s - loss: 5.124 - ETA: 7s - loss: 5.125 - ETA: 6s - loss: 5.125 - ETA: 6s - loss: 5.124 - ETA: 6s - loss: 5.125 - ETA: 6s - loss: 5.124 - ETA: 6s - loss: 5.124 - ETA: 6s - loss: 5.124 - ETA: 6s - loss: 5.124 - ETA: 6s - loss: 5.124 - ETA: 6s - loss: 5.124 - ETA: 6s - loss: 5.123 - ETA: 6s - loss: 5.124 - ETA: 6s - loss: 5.124 - ETA: 6s - loss: 5.124 - ETA: 6s - loss: 5.124 - ETA: 6s - loss: 5.124 - ETA: 6s - loss: 5.124 - ETA: 6s - loss: 5.124 - ETA: 6s - loss: 5.124 - ETA: 5s - loss: 5.124 - ETA: 5s - loss: 5.123 - ETA: 5s - loss: 5.123 - ETA: 5s - loss: 5.123 - ETA: 5s - loss: 5.123 - ETA: 5s - loss: 5.124 - ETA: 5s - loss: 5.124 - ETA: 5s - loss: 5.123 - ETA: 5s - loss: 5.123 - ETA: 5s - loss: 5.124 - ETA: 5s - loss: 5.124 - ETA: 5s - loss: 5.123 - ETA: 5s - loss: 5.123 - ETA: 5s - loss: 5.123 - ETA: 5s - loss: 5.123 - ETA: 5s - loss: 5.123 - ETA: 5s - loss: 5.123 - ETA: 5s - loss: 5.123 - ETA: 4s - loss: 5.123 - ETA: 4s - loss: 5.123 - ETA: 4s - loss: 5.122 - ETA: 4s - loss: 5.1226"
     ]
    },
    {
     "name": "stdout",
     "output_type": "stream",
     "text": [
      "291908/291908 [==============================] - ETA: 4s - loss: 5.122 - ETA: 4s - loss: 5.122 - ETA: 4s - loss: 5.122 - ETA: 4s - loss: 5.121 - ETA: 4s - loss: 5.122 - ETA: 4s - loss: 5.121 - ETA: 4s - loss: 5.121 - ETA: 4s - loss: 5.122 - ETA: 4s - loss: 5.121 - ETA: 4s - loss: 5.121 - ETA: 4s - loss: 5.121 - ETA: 4s - loss: 5.121 - ETA: 4s - loss: 5.121 - ETA: 4s - loss: 5.121 - ETA: 3s - loss: 5.121 - ETA: 3s - loss: 5.121 - ETA: 3s - loss: 5.121 - ETA: 3s - loss: 5.121 - ETA: 3s - loss: 5.121 - ETA: 3s - loss: 5.121 - ETA: 3s - loss: 5.121 - ETA: 3s - loss: 5.121 - ETA: 3s - loss: 5.120 - ETA: 3s - loss: 5.120 - ETA: 3s - loss: 5.120 - ETA: 3s - loss: 5.120 - ETA: 3s - loss: 5.120 - ETA: 3s - loss: 5.120 - ETA: 3s - loss: 5.120 - ETA: 3s - loss: 5.120 - ETA: 3s - loss: 5.120 - ETA: 3s - loss: 5.120 - ETA: 2s - loss: 5.120 - ETA: 2s - loss: 5.119 - ETA: 2s - loss: 5.119 - ETA: 2s - loss: 5.119 - ETA: 2s - loss: 5.119 - ETA: 2s - loss: 5.119 - ETA: 2s - loss: 5.119 - ETA: 2s - loss: 5.119 - ETA: 2s - loss: 5.119 - ETA: 2s - loss: 5.119 - ETA: 2s - loss: 5.119 - ETA: 2s - loss: 5.119 - ETA: 2s - loss: 5.119 - ETA: 2s - loss: 5.119 - ETA: 2s - loss: 5.119 - ETA: 2s - loss: 5.119 - ETA: 2s - loss: 5.119 - ETA: 2s - loss: 5.119 - ETA: 1s - loss: 5.119 - ETA: 1s - loss: 5.119 - ETA: 1s - loss: 5.119 - ETA: 1s - loss: 5.119 - ETA: 1s - loss: 5.119 - ETA: 1s - loss: 5.119 - ETA: 1s - loss: 5.118 - ETA: 1s - loss: 5.118 - ETA: 1s - loss: 5.118 - ETA: 1s - loss: 5.119 - ETA: 1s - loss: 5.119 - ETA: 1s - loss: 5.119 - ETA: 1s - loss: 5.118 - ETA: 1s - loss: 5.118 - ETA: 1s - loss: 5.118 - ETA: 1s - loss: 5.118 - ETA: 1s - loss: 5.118 - ETA: 1s - loss: 5.118 - ETA: 0s - loss: 5.118 - ETA: 0s - loss: 5.118 - ETA: 0s - loss: 5.118 - ETA: 0s - loss: 5.118 - ETA: 0s - loss: 5.118 - ETA: 0s - loss: 5.118 - ETA: 0s - loss: 5.118 - ETA: 0s - loss: 5.118 - ETA: 0s - loss: 5.118 - ETA: 0s - loss: 5.118 - ETA: 0s - loss: 5.118 - ETA: 0s - loss: 5.118 - ETA: 0s - loss: 5.118 - ETA: 0s - loss: 5.118 - ETA: 0s - loss: 5.118 - ETA: 0s - loss: 5.118 - ETA: 0s - loss: 5.118 - ETA: 0s - loss: 5.118 - 43s 146us/step - loss: 5.1180\n",
      "Epoch 4/5\n"
     ]
    },
    {
     "name": "stdout",
     "output_type": "stream",
     "text": [
      "129600/291908 [============>.................] - ETA: 1:13 - loss: 4.793 - ETA: 45s - loss: 4.985 - ETA: 43s - loss: 5.08 - ETA: 42s - loss: 5.10 - ETA: 42s - loss: 5.05 - ETA: 42s - loss: 5.06 - ETA: 41s - loss: 5.07 - ETA: 41s - loss: 5.07 - ETA: 41s - loss: 5.07 - ETA: 41s - loss: 5.08 - ETA: 41s - loss: 5.09 - ETA: 41s - loss: 5.08 - ETA: 41s - loss: 5.08 - ETA: 41s - loss: 5.09 - ETA: 40s - loss: 5.09 - ETA: 40s - loss: 5.08 - ETA: 40s - loss: 5.07 - ETA: 40s - loss: 5.07 - ETA: 40s - loss: 5.07 - ETA: 40s - loss: 5.06 - ETA: 40s - loss: 5.05 - ETA: 40s - loss: 5.05 - ETA: 40s - loss: 5.05 - ETA: 40s - loss: 5.05 - ETA: 40s - loss: 5.05 - ETA: 40s - loss: 5.06 - ETA: 40s - loss: 5.07 - ETA: 40s - loss: 5.07 - ETA: 40s - loss: 5.07 - ETA: 40s - loss: 5.06 - ETA: 39s - loss: 5.06 - ETA: 39s - loss: 5.06 - ETA: 39s - loss: 5.05 - ETA: 39s - loss: 5.06 - ETA: 39s - loss: 5.06 - ETA: 39s - loss: 5.06 - ETA: 39s - loss: 5.07 - ETA: 39s - loss: 5.07 - ETA: 39s - loss: 5.07 - ETA: 39s - loss: 5.06 - ETA: 39s - loss: 5.06 - ETA: 39s - loss: 5.07 - ETA: 39s - loss: 5.07 - ETA: 39s - loss: 5.07 - ETA: 39s - loss: 5.07 - ETA: 39s - loss: 5.07 - ETA: 38s - loss: 5.07 - ETA: 38s - loss: 5.08 - ETA: 38s - loss: 5.08 - ETA: 38s - loss: 5.08 - ETA: 38s - loss: 5.08 - ETA: 38s - loss: 5.08 - ETA: 38s - loss: 5.08 - ETA: 38s - loss: 5.07 - ETA: 38s - loss: 5.07 - ETA: 38s - loss: 5.07 - ETA: 38s - loss: 5.08 - ETA: 38s - loss: 5.07 - ETA: 38s - loss: 5.07 - ETA: 38s - loss: 5.07 - ETA: 38s - loss: 5.07 - ETA: 38s - loss: 5.07 - ETA: 38s - loss: 5.08 - ETA: 38s - loss: 5.08 - ETA: 37s - loss: 5.08 - ETA: 37s - loss: 5.08 - ETA: 37s - loss: 5.08 - ETA: 37s - loss: 5.08 - ETA: 37s - loss: 5.08 - ETA: 37s - loss: 5.08 - ETA: 37s - loss: 5.08 - ETA: 37s - loss: 5.08 - ETA: 37s - loss: 5.08 - ETA: 37s - loss: 5.08 - ETA: 37s - loss: 5.08 - ETA: 37s - loss: 5.08 - ETA: 37s - loss: 5.08 - ETA: 37s - loss: 5.08 - ETA: 37s - loss: 5.08 - ETA: 37s - loss: 5.08 - ETA: 37s - loss: 5.08 - ETA: 37s - loss: 5.08 - ETA: 36s - loss: 5.08 - ETA: 36s - loss: 5.08 - ETA: 36s - loss: 5.08 - ETA: 36s - loss: 5.08 - ETA: 36s - loss: 5.08 - ETA: 36s - loss: 5.08 - ETA: 36s - loss: 5.08 - ETA: 36s - loss: 5.09 - ETA: 36s - loss: 5.08 - ETA: 36s - loss: 5.08 - ETA: 36s - loss: 5.08 - ETA: 36s - loss: 5.08 - ETA: 36s - loss: 5.08 - ETA: 36s - loss: 5.08 - ETA: 36s - loss: 5.08 - ETA: 36s - loss: 5.08 - ETA: 36s - loss: 5.08 - ETA: 36s - loss: 5.08 - ETA: 35s - loss: 5.08 - ETA: 35s - loss: 5.08 - ETA: 35s - loss: 5.08 - ETA: 35s - loss: 5.08 - ETA: 35s - loss: 5.08 - ETA: 35s - loss: 5.08 - ETA: 35s - loss: 5.08 - ETA: 35s - loss: 5.08 - ETA: 35s - loss: 5.08 - ETA: 35s - loss: 5.08 - ETA: 35s - loss: 5.08 - ETA: 35s - loss: 5.08 - ETA: 35s - loss: 5.08 - ETA: 35s - loss: 5.08 - ETA: 35s - loss: 5.08 - ETA: 35s - loss: 5.08 - ETA: 35s - loss: 5.08 - ETA: 35s - loss: 5.08 - ETA: 35s - loss: 5.08 - ETA: 34s - loss: 5.08 - ETA: 34s - loss: 5.08 - ETA: 34s - loss: 5.08 - ETA: 34s - loss: 5.08 - ETA: 34s - loss: 5.08 - ETA: 34s - loss: 5.08 - ETA: 34s - loss: 5.08 - ETA: 34s - loss: 5.08 - ETA: 34s - loss: 5.08 - ETA: 34s - loss: 5.08 - ETA: 34s - loss: 5.08 - ETA: 34s - loss: 5.08 - ETA: 34s - loss: 5.08 - ETA: 34s - loss: 5.08 - ETA: 34s - loss: 5.08 - ETA: 34s - loss: 5.08 - ETA: 34s - loss: 5.08 - ETA: 34s - loss: 5.08 - ETA: 34s - loss: 5.07 - ETA: 33s - loss: 5.07 - ETA: 33s - loss: 5.07 - ETA: 33s - loss: 5.07 - ETA: 33s - loss: 5.07 - ETA: 33s - loss: 5.07 - ETA: 33s - loss: 5.07 - ETA: 33s - loss: 5.07 - ETA: 33s - loss: 5.07 - ETA: 33s - loss: 5.07 - ETA: 33s - loss: 5.07 - ETA: 33s - loss: 5.07 - ETA: 33s - loss: 5.07 - ETA: 33s - loss: 5.07 - ETA: 33s - loss: 5.07 - ETA: 33s - loss: 5.07 - ETA: 33s - loss: 5.07 - ETA: 33s - loss: 5.07 - ETA: 33s - loss: 5.07 - ETA: 32s - loss: 5.07 - ETA: 32s - loss: 5.07 - ETA: 32s - loss: 5.07 - ETA: 32s - loss: 5.07 - ETA: 32s - loss: 5.07 - ETA: 32s - loss: 5.07 - ETA: 32s - loss: 5.07 - ETA: 32s - loss: 5.07 - ETA: 32s - loss: 5.07 - ETA: 32s - loss: 5.07 - ETA: 32s - loss: 5.07 - ETA: 32s - loss: 5.07 - ETA: 32s - loss: 5.07 - ETA: 32s - loss: 5.07 - ETA: 32s - loss: 5.07 - ETA: 32s - loss: 5.07 - ETA: 32s - loss: 5.07 - ETA: 32s - loss: 5.07 - ETA: 32s - loss: 5.07 - ETA: 32s - loss: 5.07 - ETA: 32s - loss: 5.07 - ETA: 32s - loss: 5.07 - ETA: 31s - loss: 5.07 - ETA: 31s - loss: 5.07 - ETA: 31s - loss: 5.07 - ETA: 31s - loss: 5.07 - ETA: 31s - loss: 5.07 - ETA: 31s - loss: 5.07 - ETA: 31s - loss: 5.07 - ETA: 31s - loss: 5.07 - ETA: 31s - loss: 5.07 - ETA: 31s - loss: 5.07 - ETA: 31s - loss: 5.07 - ETA: 31s - loss: 5.07 - ETA: 31s - loss: 5.07 - ETA: 31s - loss: 5.07 - ETA: 31s - loss: 5.07 - ETA: 31s - loss: 5.07 - ETA: 31s - loss: 5.07 - ETA: 31s - loss: 5.07 - ETA: 31s - loss: 5.07 - ETA: 31s - loss: 5.07 - ETA: 30s - loss: 5.06 - ETA: 30s - loss: 5.06 - ETA: 30s - loss: 5.06 - ETA: 30s - loss: 5.06 - ETA: 30s - loss: 5.06 - ETA: 30s - loss: 5.06 - ETA: 30s - loss: 5.06 - ETA: 30s - loss: 5.06 - ETA: 30s - loss: 5.06 - ETA: 30s - loss: 5.06 - ETA: 30s - loss: 5.06 - ETA: 30s - loss: 5.06 - ETA: 30s - loss: 5.06 - ETA: 30s - loss: 5.06 - ETA: 30s - loss: 5.06 - ETA: 30s - loss: 5.06 - ETA: 30s - loss: 5.06 - ETA: 30s - loss: 5.06 - ETA: 30s - loss: 5.06 - ETA: 30s - loss: 5.06 - ETA: 30s - loss: 5.06 - ETA: 30s - loss: 5.06 - ETA: 30s - loss: 5.06 - ETA: 30s - loss: 5.06 - ETA: 29s - loss: 5.06 - ETA: 29s - loss: 5.06 - ETA: 29s - loss: 5.06 - ETA: 29s - loss: 5.06 - ETA: 29s - loss: 5.06 - ETA: 29s - loss: 5.06 - ETA: 29s - loss: 5.06 - ETA: 29s - loss: 5.06 - ETA: 29s - loss: 5.06 - ETA: 29s - loss: 5.06 - ETA: 29s - loss: 5.06 - ETA: 29s - loss: 5.06 - ETA: 29s - loss: 5.06 - ETA: 29s - loss: 5.06 - ETA: 29s - loss: 5.06 - ETA: 29s - loss: 5.06 - ETA: 29s - loss: 5.06 - ETA: 29s - loss: 5.06 - ETA: 29s - loss: 5.06 - ETA: 28s - loss: 5.06 - ETA: 28s - loss: 5.06 - ETA: 28s - loss: 5.06 - ETA: 28s - loss: 5.06 - ETA: 28s - loss: 5.06 - ETA: 28s - loss: 5.06 - ETA: 28s - loss: 5.06 - ETA: 28s - loss: 5.06 - ETA: 28s - loss: 5.06 - ETA: 28s - loss: 5.06 - ETA: 28s - loss: 5.06 - ETA: 28s - loss: 5.06 - ETA: 28s - loss: 5.06 - ETA: 28s - loss: 5.06 - ETA: 28s - loss: 5.06 - ETA: 28s - loss: 5.06 - ETA: 28s - loss: 5.06 - ETA: 28s - loss: 5.06 - ETA: 27s - loss: 5.06 - ETA: 27s - loss: 5.06 - ETA: 27s - loss: 5.06 - ETA: 27s - loss: 5.06 - ETA: 27s - loss: 5.06 - ETA: 27s - loss: 5.06 - ETA: 27s - loss: 5.06 - ETA: 27s - loss: 5.06 - ETA: 27s - loss: 5.06 - ETA: 27s - loss: 5.06 - ETA: 27s - loss: 5.06 - ETA: 27s - loss: 5.06 - ETA: 27s - loss: 5.06 - ETA: 27s - loss: 5.06 - ETA: 27s - loss: 5.06 - ETA: 27s - loss: 5.06 - ETA: 27s - loss: 5.06 - ETA: 27s - loss: 5.06 - ETA: 27s - loss: 5.06 - ETA: 26s - loss: 5.06 - ETA: 26s - loss: 5.06 - ETA: 26s - loss: 5.06 - ETA: 26s - loss: 5.06 - ETA: 26s - loss: 5.06 - ETA: 26s - loss: 5.06 - ETA: 26s - loss: 5.06 - ETA: 26s - loss: 5.06 - ETA: 26s - loss: 5.06 - ETA: 26s - loss: 5.06 - ETA: 26s - loss: 5.06 - ETA: 26s - loss: 5.06 - ETA: 26s - loss: 5.06 - ETA: 26s - loss: 5.06 - ETA: 26s - loss: 5.06 - ETA: 26s - loss: 5.06 - ETA: 26s - loss: 5.06 - ETA: 26s - loss: 5.06 - ETA: 26s - loss: 5.06 - ETA: 26s - loss: 5.06 - ETA: 25s - loss: 5.06 - ETA: 25s - loss: 5.06 - ETA: 25s - loss: 5.06 - ETA: 25s - loss: 5.06 - ETA: 25s - loss: 5.06 - ETA: 25s - loss: 5.06 - ETA: 25s - loss: 5.06 - ETA: 25s - loss: 5.06 - ETA: 25s - loss: 5.06 - ETA: 25s - loss: 5.06 - ETA: 25s - loss: 5.06 - ETA: 25s - loss: 5.06 - ETA: 25s - loss: 5.06 - ETA: 25s - loss: 5.06 - ETA: 25s - loss: 5.06 - ETA: 25s - loss: 5.06 - ETA: 25s - loss: 5.06 - ETA: 25s - loss: 5.06 - ETA: 24s - loss: 5.06 - ETA: 24s - loss: 5.06 - ETA: 24s - loss: 5.06 - ETA: 24s - loss: 5.06 - ETA: 24s - loss: 5.06 - ETA: 24s - loss: 5.06 - ETA: 24s - loss: 5.06 - ETA: 24s - loss: 5.06 - ETA: 24s - loss: 5.06 - ETA: 24s - loss: 5.06 - ETA: 24s - loss: 5.06 - ETA: 24s - loss: 5.06 - ETA: 24s - loss: 5.06 - ETA: 24s - loss: 5.06 - ETA: 24s - loss: 5.06 - ETA: 24s - loss: 5.06 - ETA: 24s - loss: 5.06 - ETA: 24s - loss: 5.06 - ETA: 23s - loss: 5.06 - ETA: 23s - loss: 5.06 - ETA: 23s - loss: 5.06 - ETA: 23s - loss: 5.06 - ETA: 23s - loss: 5.06 - ETA: 23s - loss: 5.0617"
     ]
    },
    {
     "name": "stdout",
     "output_type": "stream",
     "text": [
      "258720/291908 [=========================>....] - ETA: 23s - loss: 5.06 - ETA: 23s - loss: 5.06 - ETA: 23s - loss: 5.06 - ETA: 23s - loss: 5.06 - ETA: 23s - loss: 5.06 - ETA: 23s - loss: 5.06 - ETA: 23s - loss: 5.06 - ETA: 23s - loss: 5.06 - ETA: 23s - loss: 5.06 - ETA: 23s - loss: 5.06 - ETA: 23s - loss: 5.06 - ETA: 23s - loss: 5.06 - ETA: 22s - loss: 5.06 - ETA: 22s - loss: 5.06 - ETA: 22s - loss: 5.06 - ETA: 22s - loss: 5.06 - ETA: 22s - loss: 5.06 - ETA: 22s - loss: 5.06 - ETA: 22s - loss: 5.06 - ETA: 22s - loss: 5.06 - ETA: 22s - loss: 5.06 - ETA: 22s - loss: 5.06 - ETA: 22s - loss: 5.06 - ETA: 22s - loss: 5.06 - ETA: 22s - loss: 5.06 - ETA: 22s - loss: 5.06 - ETA: 22s - loss: 5.06 - ETA: 22s - loss: 5.06 - ETA: 22s - loss: 5.06 - ETA: 22s - loss: 5.06 - ETA: 22s - loss: 5.06 - ETA: 21s - loss: 5.06 - ETA: 21s - loss: 5.06 - ETA: 21s - loss: 5.06 - ETA: 21s - loss: 5.06 - ETA: 21s - loss: 5.06 - ETA: 21s - loss: 5.06 - ETA: 21s - loss: 5.06 - ETA: 21s - loss: 5.05 - ETA: 21s - loss: 5.05 - ETA: 21s - loss: 5.05 - ETA: 21s - loss: 5.05 - ETA: 21s - loss: 5.05 - ETA: 21s - loss: 5.05 - ETA: 21s - loss: 5.05 - ETA: 21s - loss: 5.05 - ETA: 21s - loss: 5.05 - ETA: 21s - loss: 5.05 - ETA: 21s - loss: 5.05 - ETA: 20s - loss: 5.05 - ETA: 20s - loss: 5.05 - ETA: 20s - loss: 5.05 - ETA: 20s - loss: 5.05 - ETA: 20s - loss: 5.05 - ETA: 20s - loss: 5.05 - ETA: 20s - loss: 5.05 - ETA: 20s - loss: 5.05 - ETA: 20s - loss: 5.05 - ETA: 20s - loss: 5.05 - ETA: 20s - loss: 5.05 - ETA: 20s - loss: 5.05 - ETA: 20s - loss: 5.05 - ETA: 20s - loss: 5.05 - ETA: 20s - loss: 5.05 - ETA: 20s - loss: 5.05 - ETA: 20s - loss: 5.05 - ETA: 20s - loss: 5.05 - ETA: 19s - loss: 5.05 - ETA: 19s - loss: 5.05 - ETA: 19s - loss: 5.05 - ETA: 19s - loss: 5.05 - ETA: 19s - loss: 5.05 - ETA: 19s - loss: 5.05 - ETA: 19s - loss: 5.05 - ETA: 19s - loss: 5.05 - ETA: 19s - loss: 5.05 - ETA: 19s - loss: 5.05 - ETA: 19s - loss: 5.05 - ETA: 19s - loss: 5.05 - ETA: 19s - loss: 5.05 - ETA: 19s - loss: 5.05 - ETA: 19s - loss: 5.05 - ETA: 19s - loss: 5.05 - ETA: 19s - loss: 5.05 - ETA: 19s - loss: 5.05 - ETA: 18s - loss: 5.05 - ETA: 18s - loss: 5.05 - ETA: 18s - loss: 5.05 - ETA: 18s - loss: 5.05 - ETA: 18s - loss: 5.05 - ETA: 18s - loss: 5.05 - ETA: 18s - loss: 5.05 - ETA: 18s - loss: 5.05 - ETA: 18s - loss: 5.05 - ETA: 18s - loss: 5.05 - ETA: 18s - loss: 5.05 - ETA: 18s - loss: 5.05 - ETA: 18s - loss: 5.05 - ETA: 18s - loss: 5.05 - ETA: 18s - loss: 5.05 - ETA: 18s - loss: 5.05 - ETA: 18s - loss: 5.05 - ETA: 18s - loss: 5.05 - ETA: 17s - loss: 5.05 - ETA: 17s - loss: 5.05 - ETA: 17s - loss: 5.05 - ETA: 17s - loss: 5.05 - ETA: 17s - loss: 5.05 - ETA: 17s - loss: 5.05 - ETA: 17s - loss: 5.05 - ETA: 17s - loss: 5.05 - ETA: 17s - loss: 5.05 - ETA: 17s - loss: 5.05 - ETA: 17s - loss: 5.05 - ETA: 17s - loss: 5.05 - ETA: 17s - loss: 5.05 - ETA: 17s - loss: 5.05 - ETA: 17s - loss: 5.05 - ETA: 17s - loss: 5.05 - ETA: 17s - loss: 5.05 - ETA: 17s - loss: 5.05 - ETA: 17s - loss: 5.05 - ETA: 16s - loss: 5.05 - ETA: 16s - loss: 5.05 - ETA: 16s - loss: 5.05 - ETA: 16s - loss: 5.05 - ETA: 16s - loss: 5.05 - ETA: 16s - loss: 5.05 - ETA: 16s - loss: 5.05 - ETA: 16s - loss: 5.05 - ETA: 16s - loss: 5.05 - ETA: 16s - loss: 5.05 - ETA: 16s - loss: 5.05 - ETA: 16s - loss: 5.05 - ETA: 16s - loss: 5.05 - ETA: 16s - loss: 5.05 - ETA: 16s - loss: 5.05 - ETA: 16s - loss: 5.05 - ETA: 16s - loss: 5.05 - ETA: 16s - loss: 5.05 - ETA: 16s - loss: 5.05 - ETA: 15s - loss: 5.05 - ETA: 15s - loss: 5.05 - ETA: 15s - loss: 5.05 - ETA: 15s - loss: 5.05 - ETA: 15s - loss: 5.05 - ETA: 15s - loss: 5.05 - ETA: 15s - loss: 5.05 - ETA: 15s - loss: 5.05 - ETA: 15s - loss: 5.05 - ETA: 15s - loss: 5.05 - ETA: 15s - loss: 5.05 - ETA: 15s - loss: 5.05 - ETA: 15s - loss: 5.05 - ETA: 15s - loss: 5.05 - ETA: 15s - loss: 5.05 - ETA: 15s - loss: 5.05 - ETA: 15s - loss: 5.05 - ETA: 15s - loss: 5.05 - ETA: 14s - loss: 5.05 - ETA: 14s - loss: 5.05 - ETA: 14s - loss: 5.05 - ETA: 14s - loss: 5.05 - ETA: 14s - loss: 5.05 - ETA: 14s - loss: 5.05 - ETA: 14s - loss: 5.05 - ETA: 14s - loss: 5.05 - ETA: 14s - loss: 5.05 - ETA: 14s - loss: 5.05 - ETA: 14s - loss: 5.05 - ETA: 14s - loss: 5.05 - ETA: 14s - loss: 5.05 - ETA: 14s - loss: 5.05 - ETA: 14s - loss: 5.05 - ETA: 14s - loss: 5.05 - ETA: 14s - loss: 5.05 - ETA: 14s - loss: 5.05 - ETA: 13s - loss: 5.05 - ETA: 13s - loss: 5.05 - ETA: 13s - loss: 5.05 - ETA: 13s - loss: 5.05 - ETA: 13s - loss: 5.05 - ETA: 13s - loss: 5.05 - ETA: 13s - loss: 5.05 - ETA: 13s - loss: 5.05 - ETA: 13s - loss: 5.05 - ETA: 13s - loss: 5.05 - ETA: 13s - loss: 5.05 - ETA: 13s - loss: 5.05 - ETA: 13s - loss: 5.05 - ETA: 13s - loss: 5.05 - ETA: 13s - loss: 5.05 - ETA: 13s - loss: 5.05 - ETA: 13s - loss: 5.05 - ETA: 12s - loss: 5.05 - ETA: 12s - loss: 5.05 - ETA: 12s - loss: 5.05 - ETA: 12s - loss: 5.05 - ETA: 12s - loss: 5.05 - ETA: 12s - loss: 5.05 - ETA: 12s - loss: 5.05 - ETA: 12s - loss: 5.05 - ETA: 12s - loss: 5.05 - ETA: 12s - loss: 5.05 - ETA: 12s - loss: 5.05 - ETA: 12s - loss: 5.05 - ETA: 12s - loss: 5.05 - ETA: 12s - loss: 5.05 - ETA: 12s - loss: 5.05 - ETA: 12s - loss: 5.05 - ETA: 12s - loss: 5.05 - ETA: 12s - loss: 5.05 - ETA: 11s - loss: 5.05 - ETA: 11s - loss: 5.05 - ETA: 11s - loss: 5.05 - ETA: 11s - loss: 5.05 - ETA: 11s - loss: 5.05 - ETA: 11s - loss: 5.05 - ETA: 11s - loss: 5.05 - ETA: 11s - loss: 5.05 - ETA: 11s - loss: 5.05 - ETA: 11s - loss: 5.05 - ETA: 11s - loss: 5.05 - ETA: 11s - loss: 5.05 - ETA: 11s - loss: 5.05 - ETA: 11s - loss: 5.05 - ETA: 11s - loss: 5.05 - ETA: 11s - loss: 5.05 - ETA: 11s - loss: 5.05 - ETA: 11s - loss: 5.05 - ETA: 10s - loss: 5.05 - ETA: 10s - loss: 5.05 - ETA: 10s - loss: 5.05 - ETA: 10s - loss: 5.05 - ETA: 10s - loss: 5.05 - ETA: 10s - loss: 5.05 - ETA: 10s - loss: 5.05 - ETA: 10s - loss: 5.05 - ETA: 10s - loss: 5.05 - ETA: 10s - loss: 5.05 - ETA: 10s - loss: 5.05 - ETA: 10s - loss: 5.05 - ETA: 10s - loss: 5.05 - ETA: 10s - loss: 5.05 - ETA: 10s - loss: 5.05 - ETA: 10s - loss: 5.05 - ETA: 10s - loss: 5.05 - ETA: 9s - loss: 5.0512 - ETA: 9s - loss: 5.050 - ETA: 9s - loss: 5.050 - ETA: 9s - loss: 5.050 - ETA: 9s - loss: 5.050 - ETA: 9s - loss: 5.050 - ETA: 9s - loss: 5.050 - ETA: 9s - loss: 5.050 - ETA: 9s - loss: 5.050 - ETA: 9s - loss: 5.050 - ETA: 9s - loss: 5.050 - ETA: 9s - loss: 5.049 - ETA: 9s - loss: 5.049 - ETA: 9s - loss: 5.049 - ETA: 9s - loss: 5.049 - ETA: 9s - loss: 5.049 - ETA: 9s - loss: 5.049 - ETA: 9s - loss: 5.049 - ETA: 9s - loss: 5.049 - ETA: 8s - loss: 5.049 - ETA: 8s - loss: 5.049 - ETA: 8s - loss: 5.049 - ETA: 8s - loss: 5.049 - ETA: 8s - loss: 5.049 - ETA: 8s - loss: 5.049 - ETA: 8s - loss: 5.049 - ETA: 8s - loss: 5.049 - ETA: 8s - loss: 5.049 - ETA: 8s - loss: 5.049 - ETA: 8s - loss: 5.049 - ETA: 8s - loss: 5.049 - ETA: 8s - loss: 5.049 - ETA: 8s - loss: 5.049 - ETA: 8s - loss: 5.049 - ETA: 8s - loss: 5.049 - ETA: 8s - loss: 5.049 - ETA: 8s - loss: 5.049 - ETA: 8s - loss: 5.048 - ETA: 7s - loss: 5.048 - ETA: 7s - loss: 5.048 - ETA: 7s - loss: 5.048 - ETA: 7s - loss: 5.048 - ETA: 7s - loss: 5.048 - ETA: 7s - loss: 5.047 - ETA: 7s - loss: 5.047 - ETA: 7s - loss: 5.047 - ETA: 7s - loss: 5.047 - ETA: 7s - loss: 5.047 - ETA: 7s - loss: 5.047 - ETA: 7s - loss: 5.047 - ETA: 7s - loss: 5.047 - ETA: 7s - loss: 5.047 - ETA: 7s - loss: 5.047 - ETA: 7s - loss: 5.047 - ETA: 7s - loss: 5.047 - ETA: 7s - loss: 5.047 - ETA: 6s - loss: 5.047 - ETA: 6s - loss: 5.047 - ETA: 6s - loss: 5.046 - ETA: 6s - loss: 5.046 - ETA: 6s - loss: 5.046 - ETA: 6s - loss: 5.046 - ETA: 6s - loss: 5.046 - ETA: 6s - loss: 5.046 - ETA: 6s - loss: 5.047 - ETA: 6s - loss: 5.046 - ETA: 6s - loss: 5.046 - ETA: 6s - loss: 5.046 - ETA: 6s - loss: 5.046 - ETA: 6s - loss: 5.046 - ETA: 6s - loss: 5.046 - ETA: 6s - loss: 5.047 - ETA: 6s - loss: 5.046 - ETA: 5s - loss: 5.046 - ETA: 5s - loss: 5.046 - ETA: 5s - loss: 5.046 - ETA: 5s - loss: 5.046 - ETA: 5s - loss: 5.046 - ETA: 5s - loss: 5.046 - ETA: 5s - loss: 5.046 - ETA: 5s - loss: 5.046 - ETA: 5s - loss: 5.046 - ETA: 5s - loss: 5.047 - ETA: 5s - loss: 5.047 - ETA: 5s - loss: 5.047 - ETA: 5s - loss: 5.047 - ETA: 5s - loss: 5.046 - ETA: 5s - loss: 5.046 - ETA: 5s - loss: 5.046 - ETA: 5s - loss: 5.046 - ETA: 5s - loss: 5.046 - ETA: 4s - loss: 5.046 - ETA: 4s - loss: 5.0463"
     ]
    },
    {
     "name": "stdout",
     "output_type": "stream",
     "text": [
      "291908/291908 [==============================] - ETA: 4s - loss: 5.046 - ETA: 4s - loss: 5.046 - ETA: 4s - loss: 5.046 - ETA: 4s - loss: 5.046 - ETA: 4s - loss: 5.046 - ETA: 4s - loss: 5.046 - ETA: 4s - loss: 5.046 - ETA: 4s - loss: 5.046 - ETA: 4s - loss: 5.046 - ETA: 4s - loss: 5.046 - ETA: 4s - loss: 5.046 - ETA: 4s - loss: 5.046 - ETA: 4s - loss: 5.046 - ETA: 4s - loss: 5.046 - ETA: 4s - loss: 5.046 - ETA: 4s - loss: 5.046 - ETA: 3s - loss: 5.046 - ETA: 3s - loss: 5.046 - ETA: 3s - loss: 5.045 - ETA: 3s - loss: 5.046 - ETA: 3s - loss: 5.046 - ETA: 3s - loss: 5.045 - ETA: 3s - loss: 5.045 - ETA: 3s - loss: 5.045 - ETA: 3s - loss: 5.045 - ETA: 3s - loss: 5.045 - ETA: 3s - loss: 5.045 - ETA: 3s - loss: 5.045 - ETA: 3s - loss: 5.045 - ETA: 3s - loss: 5.045 - ETA: 3s - loss: 5.045 - ETA: 3s - loss: 5.045 - ETA: 3s - loss: 5.045 - ETA: 2s - loss: 5.045 - ETA: 2s - loss: 5.045 - ETA: 2s - loss: 5.045 - ETA: 2s - loss: 5.044 - ETA: 2s - loss: 5.044 - ETA: 2s - loss: 5.044 - ETA: 2s - loss: 5.044 - ETA: 2s - loss: 5.044 - ETA: 2s - loss: 5.044 - ETA: 2s - loss: 5.044 - ETA: 2s - loss: 5.044 - ETA: 2s - loss: 5.045 - ETA: 2s - loss: 5.044 - ETA: 2s - loss: 5.044 - ETA: 2s - loss: 5.044 - ETA: 2s - loss: 5.044 - ETA: 2s - loss: 5.044 - ETA: 2s - loss: 5.043 - ETA: 1s - loss: 5.043 - ETA: 1s - loss: 5.043 - ETA: 1s - loss: 5.043 - ETA: 1s - loss: 5.043 - ETA: 1s - loss: 5.043 - ETA: 1s - loss: 5.043 - ETA: 1s - loss: 5.043 - ETA: 1s - loss: 5.043 - ETA: 1s - loss: 5.043 - ETA: 1s - loss: 5.043 - ETA: 1s - loss: 5.043 - ETA: 1s - loss: 5.043 - ETA: 1s - loss: 5.043 - ETA: 1s - loss: 5.043 - ETA: 1s - loss: 5.043 - ETA: 1s - loss: 5.043 - ETA: 1s - loss: 5.043 - ETA: 0s - loss: 5.043 - ETA: 0s - loss: 5.043 - ETA: 0s - loss: 5.043 - ETA: 0s - loss: 5.043 - ETA: 0s - loss: 5.043 - ETA: 0s - loss: 5.043 - ETA: 0s - loss: 5.043 - ETA: 0s - loss: 5.043 - ETA: 0s - loss: 5.043 - ETA: 0s - loss: 5.043 - ETA: 0s - loss: 5.043 - ETA: 0s - loss: 5.042 - ETA: 0s - loss: 5.042 - ETA: 0s - loss: 5.042 - ETA: 0s - loss: 5.042 - ETA: 0s - loss: 5.042 - ETA: 0s - loss: 5.042 - ETA: 0s - loss: 5.042 - 43s 149us/step - loss: 5.0424\n",
      "Epoch 5/5\n"
     ]
    },
    {
     "name": "stdout",
     "output_type": "stream",
     "text": [
      "129888/291908 [============>.................] - ETA: 1:16 - loss: 5.075 - ETA: 49s - loss: 4.999 - ETA: 46s - loss: 5.00 - ETA: 45s - loss: 4.98 - ETA: 44s - loss: 5.02 - ETA: 43s - loss: 5.04 - ETA: 44s - loss: 5.01 - ETA: 43s - loss: 5.00 - ETA: 43s - loss: 5.00 - ETA: 43s - loss: 5.00 - ETA: 43s - loss: 5.00 - ETA: 43s - loss: 4.99 - ETA: 43s - loss: 4.98 - ETA: 42s - loss: 4.98 - ETA: 42s - loss: 4.99 - ETA: 42s - loss: 4.98 - ETA: 42s - loss: 4.99 - ETA: 43s - loss: 5.00 - ETA: 43s - loss: 4.99 - ETA: 43s - loss: 4.98 - ETA: 42s - loss: 4.98 - ETA: 42s - loss: 4.98 - ETA: 42s - loss: 4.98 - ETA: 42s - loss: 4.98 - ETA: 42s - loss: 4.99 - ETA: 42s - loss: 4.99 - ETA: 42s - loss: 4.99 - ETA: 42s - loss: 4.99 - ETA: 42s - loss: 4.99 - ETA: 42s - loss: 4.99 - ETA: 41s - loss: 4.99 - ETA: 41s - loss: 4.99 - ETA: 41s - loss: 4.98 - ETA: 41s - loss: 4.98 - ETA: 41s - loss: 4.98 - ETA: 41s - loss: 4.98 - ETA: 41s - loss: 4.98 - ETA: 41s - loss: 4.98 - ETA: 41s - loss: 4.99 - ETA: 41s - loss: 4.99 - ETA: 41s - loss: 4.99 - ETA: 41s - loss: 4.99 - ETA: 41s - loss: 4.99 - ETA: 41s - loss: 4.99 - ETA: 40s - loss: 4.99 - ETA: 40s - loss: 4.99 - ETA: 40s - loss: 4.99 - ETA: 40s - loss: 4.99 - ETA: 40s - loss: 4.99 - ETA: 40s - loss: 4.99 - ETA: 40s - loss: 4.99 - ETA: 40s - loss: 4.99 - ETA: 40s - loss: 4.98 - ETA: 40s - loss: 4.98 - ETA: 40s - loss: 4.98 - ETA: 40s - loss: 4.98 - ETA: 40s - loss: 4.98 - ETA: 40s - loss: 4.98 - ETA: 40s - loss: 4.98 - ETA: 40s - loss: 4.98 - ETA: 40s - loss: 4.97 - ETA: 40s - loss: 4.97 - ETA: 40s - loss: 4.97 - ETA: 40s - loss: 4.97 - ETA: 40s - loss: 4.98 - ETA: 40s - loss: 4.98 - ETA: 40s - loss: 4.98 - ETA: 40s - loss: 4.98 - ETA: 40s - loss: 4.98 - ETA: 40s - loss: 4.97 - ETA: 40s - loss: 4.97 - ETA: 39s - loss: 4.97 - ETA: 39s - loss: 4.97 - ETA: 39s - loss: 4.98 - ETA: 39s - loss: 4.98 - ETA: 39s - loss: 4.98 - ETA: 39s - loss: 4.97 - ETA: 39s - loss: 4.98 - ETA: 39s - loss: 4.97 - ETA: 39s - loss: 4.98 - ETA: 39s - loss: 4.98 - ETA: 39s - loss: 4.98 - ETA: 39s - loss: 4.98 - ETA: 39s - loss: 4.98 - ETA: 39s - loss: 4.98 - ETA: 39s - loss: 4.98 - ETA: 39s - loss: 4.98 - ETA: 38s - loss: 4.98 - ETA: 38s - loss: 4.98 - ETA: 38s - loss: 4.98 - ETA: 38s - loss: 4.98 - ETA: 38s - loss: 4.98 - ETA: 38s - loss: 4.98 - ETA: 38s - loss: 4.98 - ETA: 38s - loss: 4.98 - ETA: 38s - loss: 4.99 - ETA: 38s - loss: 4.99 - ETA: 38s - loss: 4.99 - ETA: 38s - loss: 4.99 - ETA: 38s - loss: 4.99 - ETA: 38s - loss: 4.99 - ETA: 38s - loss: 4.99 - ETA: 38s - loss: 4.99 - ETA: 38s - loss: 4.99 - ETA: 37s - loss: 4.99 - ETA: 37s - loss: 4.99 - ETA: 37s - loss: 4.99 - ETA: 37s - loss: 4.99 - ETA: 37s - loss: 4.99 - ETA: 37s - loss: 4.99 - ETA: 37s - loss: 4.99 - ETA: 37s - loss: 4.99 - ETA: 37s - loss: 4.99 - ETA: 37s - loss: 4.99 - ETA: 37s - loss: 4.99 - ETA: 37s - loss: 4.99 - ETA: 37s - loss: 4.99 - ETA: 37s - loss: 4.99 - ETA: 37s - loss: 4.99 - ETA: 36s - loss: 4.99 - ETA: 36s - loss: 4.99 - ETA: 36s - loss: 4.99 - ETA: 36s - loss: 4.99 - ETA: 36s - loss: 4.99 - ETA: 36s - loss: 4.99 - ETA: 36s - loss: 4.99 - ETA: 36s - loss: 4.99 - ETA: 36s - loss: 4.99 - ETA: 36s - loss: 4.99 - ETA: 36s - loss: 4.99 - ETA: 36s - loss: 4.99 - ETA: 36s - loss: 4.99 - ETA: 36s - loss: 4.99 - ETA: 36s - loss: 4.99 - ETA: 36s - loss: 4.99 - ETA: 35s - loss: 4.99 - ETA: 35s - loss: 4.99 - ETA: 35s - loss: 4.99 - ETA: 35s - loss: 4.99 - ETA: 35s - loss: 4.99 - ETA: 35s - loss: 4.99 - ETA: 35s - loss: 4.99 - ETA: 35s - loss: 4.99 - ETA: 35s - loss: 4.99 - ETA: 35s - loss: 4.99 - ETA: 35s - loss: 4.99 - ETA: 35s - loss: 4.99 - ETA: 35s - loss: 4.99 - ETA: 35s - loss: 4.99 - ETA: 35s - loss: 4.99 - ETA: 35s - loss: 4.99 - ETA: 35s - loss: 4.99 - ETA: 34s - loss: 4.99 - ETA: 34s - loss: 4.99 - ETA: 34s - loss: 4.99 - ETA: 34s - loss: 4.99 - ETA: 34s - loss: 4.99 - ETA: 34s - loss: 5.00 - ETA: 34s - loss: 4.99 - ETA: 34s - loss: 4.99 - ETA: 34s - loss: 4.99 - ETA: 34s - loss: 5.00 - ETA: 34s - loss: 5.00 - ETA: 34s - loss: 5.00 - ETA: 34s - loss: 5.00 - ETA: 34s - loss: 5.00 - ETA: 34s - loss: 5.00 - ETA: 34s - loss: 5.00 - ETA: 34s - loss: 5.00 - ETA: 33s - loss: 5.00 - ETA: 33s - loss: 5.00 - ETA: 33s - loss: 5.00 - ETA: 33s - loss: 5.00 - ETA: 33s - loss: 5.00 - ETA: 33s - loss: 5.00 - ETA: 33s - loss: 5.00 - ETA: 33s - loss: 5.00 - ETA: 33s - loss: 5.00 - ETA: 33s - loss: 5.00 - ETA: 33s - loss: 5.00 - ETA: 33s - loss: 5.00 - ETA: 33s - loss: 5.00 - ETA: 33s - loss: 5.00 - ETA: 33s - loss: 5.00 - ETA: 33s - loss: 5.00 - ETA: 33s - loss: 5.00 - ETA: 32s - loss: 5.00 - ETA: 32s - loss: 5.00 - ETA: 32s - loss: 5.00 - ETA: 32s - loss: 5.00 - ETA: 32s - loss: 5.00 - ETA: 32s - loss: 5.00 - ETA: 32s - loss: 5.00 - ETA: 32s - loss: 5.00 - ETA: 32s - loss: 5.00 - ETA: 32s - loss: 5.00 - ETA: 32s - loss: 5.00 - ETA: 32s - loss: 5.00 - ETA: 32s - loss: 5.00 - ETA: 32s - loss: 5.00 - ETA: 32s - loss: 5.00 - ETA: 32s - loss: 5.00 - ETA: 32s - loss: 5.00 - ETA: 31s - loss: 5.00 - ETA: 31s - loss: 5.00 - ETA: 31s - loss: 5.00 - ETA: 31s - loss: 5.00 - ETA: 31s - loss: 5.00 - ETA: 31s - loss: 5.00 - ETA: 31s - loss: 5.00 - ETA: 31s - loss: 5.00 - ETA: 31s - loss: 5.00 - ETA: 31s - loss: 5.00 - ETA: 31s - loss: 5.00 - ETA: 31s - loss: 5.00 - ETA: 31s - loss: 5.00 - ETA: 31s - loss: 5.00 - ETA: 31s - loss: 5.00 - ETA: 31s - loss: 5.00 - ETA: 31s - loss: 5.00 - ETA: 30s - loss: 5.00 - ETA: 30s - loss: 5.00 - ETA: 30s - loss: 5.00 - ETA: 30s - loss: 5.00 - ETA: 30s - loss: 5.00 - ETA: 30s - loss: 5.00 - ETA: 30s - loss: 5.00 - ETA: 30s - loss: 5.00 - ETA: 30s - loss: 5.00 - ETA: 30s - loss: 5.00 - ETA: 30s - loss: 5.00 - ETA: 30s - loss: 4.99 - ETA: 30s - loss: 5.00 - ETA: 30s - loss: 4.99 - ETA: 30s - loss: 4.99 - ETA: 30s - loss: 5.00 - ETA: 30s - loss: 5.00 - ETA: 29s - loss: 5.00 - ETA: 29s - loss: 5.00 - ETA: 29s - loss: 5.00 - ETA: 29s - loss: 5.00 - ETA: 29s - loss: 5.00 - ETA: 29s - loss: 5.00 - ETA: 29s - loss: 5.00 - ETA: 29s - loss: 5.00 - ETA: 29s - loss: 5.00 - ETA: 29s - loss: 5.00 - ETA: 29s - loss: 5.00 - ETA: 29s - loss: 4.99 - ETA: 29s - loss: 5.00 - ETA: 29s - loss: 5.00 - ETA: 29s - loss: 5.00 - ETA: 29s - loss: 4.99 - ETA: 29s - loss: 4.99 - ETA: 29s - loss: 4.99 - ETA: 28s - loss: 4.99 - ETA: 28s - loss: 4.99 - ETA: 28s - loss: 4.99 - ETA: 28s - loss: 4.99 - ETA: 28s - loss: 4.99 - ETA: 28s - loss: 4.99 - ETA: 28s - loss: 4.99 - ETA: 28s - loss: 4.99 - ETA: 28s - loss: 4.99 - ETA: 28s - loss: 4.99 - ETA: 28s - loss: 4.99 - ETA: 28s - loss: 4.99 - ETA: 28s - loss: 4.99 - ETA: 28s - loss: 4.99 - ETA: 28s - loss: 4.99 - ETA: 28s - loss: 4.99 - ETA: 28s - loss: 4.99 - ETA: 27s - loss: 4.99 - ETA: 27s - loss: 4.99 - ETA: 27s - loss: 4.99 - ETA: 27s - loss: 4.99 - ETA: 27s - loss: 4.99 - ETA: 27s - loss: 4.99 - ETA: 27s - loss: 4.99 - ETA: 27s - loss: 4.99 - ETA: 27s - loss: 4.99 - ETA: 27s - loss: 4.99 - ETA: 27s - loss: 4.99 - ETA: 27s - loss: 4.99 - ETA: 27s - loss: 4.99 - ETA: 27s - loss: 4.99 - ETA: 27s - loss: 5.00 - ETA: 27s - loss: 4.99 - ETA: 27s - loss: 4.99 - ETA: 26s - loss: 4.99 - ETA: 26s - loss: 4.99 - ETA: 26s - loss: 4.99 - ETA: 26s - loss: 4.99 - ETA: 26s - loss: 4.99 - ETA: 26s - loss: 4.99 - ETA: 26s - loss: 4.99 - ETA: 26s - loss: 4.99 - ETA: 26s - loss: 5.00 - ETA: 26s - loss: 5.00 - ETA: 26s - loss: 5.00 - ETA: 26s - loss: 5.00 - ETA: 26s - loss: 5.00 - ETA: 26s - loss: 5.00 - ETA: 26s - loss: 5.00 - ETA: 26s - loss: 5.00 - ETA: 26s - loss: 5.00 - ETA: 26s - loss: 5.00 - ETA: 25s - loss: 4.99 - ETA: 25s - loss: 4.99 - ETA: 25s - loss: 4.99 - ETA: 25s - loss: 4.99 - ETA: 25s - loss: 5.00 - ETA: 25s - loss: 4.99 - ETA: 25s - loss: 4.99 - ETA: 25s - loss: 4.99 - ETA: 25s - loss: 4.99 - ETA: 25s - loss: 4.99 - ETA: 25s - loss: 5.00 - ETA: 25s - loss: 5.00 - ETA: 25s - loss: 5.00 - ETA: 25s - loss: 5.00 - ETA: 25s - loss: 5.00 - ETA: 25s - loss: 5.00 - ETA: 25s - loss: 5.00 - ETA: 24s - loss: 5.00 - ETA: 24s - loss: 5.00 - ETA: 24s - loss: 5.00 - ETA: 24s - loss: 5.00 - ETA: 24s - loss: 5.00 - ETA: 24s - loss: 5.00 - ETA: 24s - loss: 5.00 - ETA: 24s - loss: 5.00 - ETA: 24s - loss: 5.00 - ETA: 24s - loss: 5.00 - ETA: 24s - loss: 5.00 - ETA: 24s - loss: 5.00 - ETA: 24s - loss: 5.00 - ETA: 24s - loss: 5.00 - ETA: 24s - loss: 5.00 - ETA: 24s - loss: 4.9999"
     ]
    },
    {
     "name": "stdout",
     "output_type": "stream",
     "text": [
      "258624/291908 [=========================>....] - ETA: 24s - loss: 5.00 - ETA: 24s - loss: 4.99 - ETA: 24s - loss: 5.00 - ETA: 23s - loss: 5.00 - ETA: 23s - loss: 4.99 - ETA: 23s - loss: 4.99 - ETA: 23s - loss: 4.99 - ETA: 23s - loss: 4.99 - ETA: 23s - loss: 4.99 - ETA: 23s - loss: 4.99 - ETA: 23s - loss: 4.99 - ETA: 23s - loss: 4.99 - ETA: 23s - loss: 4.99 - ETA: 23s - loss: 4.99 - ETA: 23s - loss: 4.99 - ETA: 23s - loss: 4.99 - ETA: 23s - loss: 4.99 - ETA: 23s - loss: 4.99 - ETA: 23s - loss: 4.99 - ETA: 23s - loss: 4.99 - ETA: 23s - loss: 4.99 - ETA: 23s - loss: 4.99 - ETA: 22s - loss: 4.99 - ETA: 22s - loss: 4.99 - ETA: 22s - loss: 4.99 - ETA: 22s - loss: 4.99 - ETA: 22s - loss: 4.99 - ETA: 22s - loss: 4.99 - ETA: 22s - loss: 4.99 - ETA: 22s - loss: 4.99 - ETA: 22s - loss: 4.99 - ETA: 22s - loss: 4.99 - ETA: 22s - loss: 4.99 - ETA: 22s - loss: 4.99 - ETA: 22s - loss: 4.99 - ETA: 22s - loss: 4.99 - ETA: 22s - loss: 4.99 - ETA: 22s - loss: 4.99 - ETA: 22s - loss: 4.99 - ETA: 22s - loss: 4.99 - ETA: 21s - loss: 4.99 - ETA: 21s - loss: 4.99 - ETA: 21s - loss: 4.99 - ETA: 21s - loss: 4.99 - ETA: 21s - loss: 4.99 - ETA: 21s - loss: 4.99 - ETA: 21s - loss: 4.99 - ETA: 21s - loss: 4.99 - ETA: 21s - loss: 4.99 - ETA: 21s - loss: 4.99 - ETA: 21s - loss: 4.99 - ETA: 21s - loss: 4.99 - ETA: 21s - loss: 4.99 - ETA: 21s - loss: 4.99 - ETA: 21s - loss: 4.99 - ETA: 21s - loss: 4.99 - ETA: 21s - loss: 4.99 - ETA: 20s - loss: 4.99 - ETA: 20s - loss: 4.99 - ETA: 20s - loss: 4.99 - ETA: 20s - loss: 4.99 - ETA: 20s - loss: 4.99 - ETA: 20s - loss: 4.99 - ETA: 20s - loss: 4.99 - ETA: 20s - loss: 4.99 - ETA: 20s - loss: 4.99 - ETA: 20s - loss: 4.99 - ETA: 20s - loss: 4.99 - ETA: 20s - loss: 4.99 - ETA: 20s - loss: 4.99 - ETA: 20s - loss: 4.99 - ETA: 20s - loss: 4.99 - ETA: 20s - loss: 4.99 - ETA: 20s - loss: 4.99 - ETA: 20s - loss: 4.99 - ETA: 19s - loss: 4.99 - ETA: 19s - loss: 4.99 - ETA: 19s - loss: 4.99 - ETA: 19s - loss: 4.99 - ETA: 19s - loss: 4.99 - ETA: 19s - loss: 4.99 - ETA: 19s - loss: 4.99 - ETA: 19s - loss: 4.99 - ETA: 19s - loss: 4.99 - ETA: 19s - loss: 4.99 - ETA: 19s - loss: 4.99 - ETA: 19s - loss: 4.99 - ETA: 19s - loss: 4.99 - ETA: 19s - loss: 4.99 - ETA: 19s - loss: 4.99 - ETA: 19s - loss: 4.99 - ETA: 19s - loss: 4.99 - ETA: 18s - loss: 4.99 - ETA: 18s - loss: 4.99 - ETA: 18s - loss: 4.99 - ETA: 18s - loss: 4.99 - ETA: 18s - loss: 4.99 - ETA: 18s - loss: 4.99 - ETA: 18s - loss: 4.99 - ETA: 18s - loss: 4.99 - ETA: 18s - loss: 4.98 - ETA: 18s - loss: 4.99 - ETA: 18s - loss: 4.98 - ETA: 18s - loss: 4.98 - ETA: 18s - loss: 4.98 - ETA: 18s - loss: 4.98 - ETA: 18s - loss: 4.99 - ETA: 18s - loss: 4.98 - ETA: 18s - loss: 4.98 - ETA: 18s - loss: 4.98 - ETA: 17s - loss: 4.99 - ETA: 17s - loss: 4.99 - ETA: 17s - loss: 4.98 - ETA: 17s - loss: 4.98 - ETA: 17s - loss: 4.98 - ETA: 17s - loss: 4.98 - ETA: 17s - loss: 4.98 - ETA: 17s - loss: 4.98 - ETA: 17s - loss: 4.98 - ETA: 17s - loss: 4.98 - ETA: 17s - loss: 4.98 - ETA: 17s - loss: 4.98 - ETA: 17s - loss: 4.98 - ETA: 17s - loss: 4.98 - ETA: 17s - loss: 4.98 - ETA: 17s - loss: 4.98 - ETA: 17s - loss: 4.98 - ETA: 17s - loss: 4.98 - ETA: 17s - loss: 4.98 - ETA: 16s - loss: 4.98 - ETA: 16s - loss: 4.98 - ETA: 16s - loss: 4.98 - ETA: 16s - loss: 4.98 - ETA: 16s - loss: 4.98 - ETA: 16s - loss: 4.98 - ETA: 16s - loss: 4.98 - ETA: 16s - loss: 4.98 - ETA: 16s - loss: 4.98 - ETA: 16s - loss: 4.98 - ETA: 16s - loss: 4.98 - ETA: 16s - loss: 4.98 - ETA: 16s - loss: 4.98 - ETA: 16s - loss: 4.98 - ETA: 16s - loss: 4.98 - ETA: 16s - loss: 4.98 - ETA: 16s - loss: 4.98 - ETA: 16s - loss: 4.98 - ETA: 15s - loss: 4.98 - ETA: 15s - loss: 4.98 - ETA: 15s - loss: 4.98 - ETA: 15s - loss: 4.98 - ETA: 15s - loss: 4.98 - ETA: 15s - loss: 4.98 - ETA: 15s - loss: 4.98 - ETA: 15s - loss: 4.98 - ETA: 15s - loss: 4.98 - ETA: 15s - loss: 4.98 - ETA: 15s - loss: 4.98 - ETA: 15s - loss: 4.98 - ETA: 15s - loss: 4.98 - ETA: 15s - loss: 4.98 - ETA: 15s - loss: 4.98 - ETA: 15s - loss: 4.98 - ETA: 15s - loss: 4.98 - ETA: 14s - loss: 4.98 - ETA: 14s - loss: 4.98 - ETA: 14s - loss: 4.98 - ETA: 14s - loss: 4.98 - ETA: 14s - loss: 4.98 - ETA: 14s - loss: 4.98 - ETA: 14s - loss: 4.98 - ETA: 14s - loss: 4.98 - ETA: 14s - loss: 4.98 - ETA: 14s - loss: 4.98 - ETA: 14s - loss: 4.98 - ETA: 14s - loss: 4.98 - ETA: 14s - loss: 4.98 - ETA: 14s - loss: 4.98 - ETA: 14s - loss: 4.98 - ETA: 14s - loss: 4.98 - ETA: 14s - loss: 4.98 - ETA: 13s - loss: 4.98 - ETA: 13s - loss: 4.98 - ETA: 13s - loss: 4.98 - ETA: 13s - loss: 4.98 - ETA: 13s - loss: 4.98 - ETA: 13s - loss: 4.98 - ETA: 13s - loss: 4.98 - ETA: 13s - loss: 4.98 - ETA: 13s - loss: 4.98 - ETA: 13s - loss: 4.98 - ETA: 13s - loss: 4.98 - ETA: 13s - loss: 4.98 - ETA: 13s - loss: 4.98 - ETA: 13s - loss: 4.98 - ETA: 13s - loss: 4.98 - ETA: 13s - loss: 4.98 - ETA: 13s - loss: 4.98 - ETA: 13s - loss: 4.98 - ETA: 12s - loss: 4.98 - ETA: 12s - loss: 4.98 - ETA: 12s - loss: 4.98 - ETA: 12s - loss: 4.98 - ETA: 12s - loss: 4.98 - ETA: 12s - loss: 4.98 - ETA: 12s - loss: 4.98 - ETA: 12s - loss: 4.98 - ETA: 12s - loss: 4.98 - ETA: 12s - loss: 4.98 - ETA: 12s - loss: 4.98 - ETA: 12s - loss: 4.98 - ETA: 12s - loss: 4.98 - ETA: 12s - loss: 4.98 - ETA: 12s - loss: 4.98 - ETA: 12s - loss: 4.98 - ETA: 12s - loss: 4.98 - ETA: 11s - loss: 4.98 - ETA: 11s - loss: 4.98 - ETA: 11s - loss: 4.98 - ETA: 11s - loss: 4.98 - ETA: 11s - loss: 4.98 - ETA: 11s - loss: 4.98 - ETA: 11s - loss: 4.98 - ETA: 11s - loss: 4.98 - ETA: 11s - loss: 4.98 - ETA: 11s - loss: 4.98 - ETA: 11s - loss: 4.98 - ETA: 11s - loss: 4.98 - ETA: 11s - loss: 4.98 - ETA: 11s - loss: 4.98 - ETA: 11s - loss: 4.98 - ETA: 11s - loss: 4.98 - ETA: 11s - loss: 4.98 - ETA: 11s - loss: 4.98 - ETA: 10s - loss: 4.98 - ETA: 10s - loss: 4.98 - ETA: 10s - loss: 4.98 - ETA: 10s - loss: 4.98 - ETA: 10s - loss: 4.98 - ETA: 10s - loss: 4.98 - ETA: 10s - loss: 4.98 - ETA: 10s - loss: 4.98 - ETA: 10s - loss: 4.98 - ETA: 10s - loss: 4.98 - ETA: 10s - loss: 4.98 - ETA: 10s - loss: 4.98 - ETA: 10s - loss: 4.98 - ETA: 10s - loss: 4.98 - ETA: 10s - loss: 4.98 - ETA: 10s - loss: 4.98 - ETA: 10s - loss: 4.98 - ETA: 9s - loss: 4.9843 - ETA: 9s - loss: 4.984 - ETA: 9s - loss: 4.984 - ETA: 9s - loss: 4.984 - ETA: 9s - loss: 4.984 - ETA: 9s - loss: 4.984 - ETA: 9s - loss: 4.984 - ETA: 9s - loss: 4.984 - ETA: 9s - loss: 4.984 - ETA: 9s - loss: 4.984 - ETA: 9s - loss: 4.984 - ETA: 9s - loss: 4.985 - ETA: 9s - loss: 4.985 - ETA: 9s - loss: 4.985 - ETA: 9s - loss: 4.985 - ETA: 9s - loss: 4.985 - ETA: 9s - loss: 4.985 - ETA: 9s - loss: 4.985 - ETA: 8s - loss: 4.985 - ETA: 8s - loss: 4.985 - ETA: 8s - loss: 4.986 - ETA: 8s - loss: 4.985 - ETA: 8s - loss: 4.986 - ETA: 8s - loss: 4.986 - ETA: 8s - loss: 4.986 - ETA: 8s - loss: 4.986 - ETA: 8s - loss: 4.986 - ETA: 8s - loss: 4.986 - ETA: 8s - loss: 4.986 - ETA: 8s - loss: 4.986 - ETA: 8s - loss: 4.985 - ETA: 8s - loss: 4.986 - ETA: 8s - loss: 4.986 - ETA: 8s - loss: 4.986 - ETA: 8s - loss: 4.986 - ETA: 7s - loss: 4.986 - ETA: 7s - loss: 4.986 - ETA: 7s - loss: 4.986 - ETA: 7s - loss: 4.986 - ETA: 7s - loss: 4.986 - ETA: 7s - loss: 4.986 - ETA: 7s - loss: 4.986 - ETA: 7s - loss: 4.986 - ETA: 7s - loss: 4.985 - ETA: 7s - loss: 4.985 - ETA: 7s - loss: 4.985 - ETA: 7s - loss: 4.985 - ETA: 7s - loss: 4.985 - ETA: 7s - loss: 4.985 - ETA: 7s - loss: 4.985 - ETA: 7s - loss: 4.985 - ETA: 7s - loss: 4.985 - ETA: 7s - loss: 4.985 - ETA: 6s - loss: 4.985 - ETA: 6s - loss: 4.985 - ETA: 6s - loss: 4.985 - ETA: 6s - loss: 4.985 - ETA: 6s - loss: 4.985 - ETA: 6s - loss: 4.985 - ETA: 6s - loss: 4.985 - ETA: 6s - loss: 4.985 - ETA: 6s - loss: 4.985 - ETA: 6s - loss: 4.985 - ETA: 6s - loss: 4.985 - ETA: 6s - loss: 4.985 - ETA: 6s - loss: 4.985 - ETA: 6s - loss: 4.984 - ETA: 6s - loss: 4.984 - ETA: 6s - loss: 4.984 - ETA: 6s - loss: 4.984 - ETA: 5s - loss: 4.984 - ETA: 5s - loss: 4.984 - ETA: 5s - loss: 4.984 - ETA: 5s - loss: 4.984 - ETA: 5s - loss: 4.984 - ETA: 5s - loss: 4.984 - ETA: 5s - loss: 4.984 - ETA: 5s - loss: 4.984 - ETA: 5s - loss: 4.984 - ETA: 5s - loss: 4.983 - ETA: 5s - loss: 4.984 - ETA: 5s - loss: 4.983 - ETA: 5s - loss: 4.983 - ETA: 5s - loss: 4.983 - ETA: 5s - loss: 4.983 - ETA: 5s - loss: 4.983 - ETA: 5s - loss: 4.983 - ETA: 5s - loss: 4.983 - ETA: 4s - loss: 4.9835"
     ]
    },
    {
     "name": "stdout",
     "output_type": "stream",
     "text": [
      "291908/291908 [==============================] - ETA: 4s - loss: 4.983 - ETA: 4s - loss: 4.983 - ETA: 4s - loss: 4.983 - ETA: 4s - loss: 4.983 - ETA: 4s - loss: 4.982 - ETA: 4s - loss: 4.983 - ETA: 4s - loss: 4.983 - ETA: 4s - loss: 4.983 - ETA: 4s - loss: 4.983 - ETA: 4s - loss: 4.983 - ETA: 4s - loss: 4.983 - ETA: 4s - loss: 4.983 - ETA: 4s - loss: 4.983 - ETA: 4s - loss: 4.983 - ETA: 4s - loss: 4.982 - ETA: 4s - loss: 4.983 - ETA: 3s - loss: 4.982 - ETA: 3s - loss: 4.983 - ETA: 3s - loss: 4.982 - ETA: 3s - loss: 4.983 - ETA: 3s - loss: 4.982 - ETA: 3s - loss: 4.983 - ETA: 3s - loss: 4.983 - ETA: 3s - loss: 4.983 - ETA: 3s - loss: 4.982 - ETA: 3s - loss: 4.982 - ETA: 3s - loss: 4.982 - ETA: 3s - loss: 4.982 - ETA: 3s - loss: 4.982 - ETA: 3s - loss: 4.982 - ETA: 3s - loss: 4.981 - ETA: 3s - loss: 4.981 - ETA: 3s - loss: 4.981 - ETA: 3s - loss: 4.981 - ETA: 2s - loss: 4.981 - ETA: 2s - loss: 4.981 - ETA: 2s - loss: 4.980 - ETA: 2s - loss: 4.980 - ETA: 2s - loss: 4.980 - ETA: 2s - loss: 4.980 - ETA: 2s - loss: 4.980 - ETA: 2s - loss: 4.980 - ETA: 2s - loss: 4.980 - ETA: 2s - loss: 4.980 - ETA: 2s - loss: 4.979 - ETA: 2s - loss: 4.979 - ETA: 2s - loss: 4.979 - ETA: 2s - loss: 4.979 - ETA: 2s - loss: 4.980 - ETA: 2s - loss: 4.980 - ETA: 2s - loss: 4.980 - ETA: 1s - loss: 4.980 - ETA: 1s - loss: 4.980 - ETA: 1s - loss: 4.979 - ETA: 1s - loss: 4.979 - ETA: 1s - loss: 4.979 - ETA: 1s - loss: 4.979 - ETA: 1s - loss: 4.979 - ETA: 1s - loss: 4.979 - ETA: 1s - loss: 4.979 - ETA: 1s - loss: 4.979 - ETA: 1s - loss: 4.979 - ETA: 1s - loss: 4.979 - ETA: 1s - loss: 4.979 - ETA: 1s - loss: 4.979 - ETA: 1s - loss: 4.979 - ETA: 1s - loss: 4.979 - ETA: 1s - loss: 4.979 - ETA: 1s - loss: 4.979 - ETA: 0s - loss: 4.979 - ETA: 0s - loss: 4.979 - ETA: 0s - loss: 4.979 - ETA: 0s - loss: 4.979 - ETA: 0s - loss: 4.979 - ETA: 0s - loss: 4.979 - ETA: 0s - loss: 4.979 - ETA: 0s - loss: 4.979 - ETA: 0s - loss: 4.979 - ETA: 0s - loss: 4.978 - ETA: 0s - loss: 4.978 - ETA: 0s - loss: 4.978 - ETA: 0s - loss: 4.978 - ETA: 0s - loss: 4.978 - ETA: 0s - loss: 4.979 - ETA: 0s - loss: 4.979 - ETA: 0s - loss: 4.978 - 43s 148us/step - loss: 4.9790\n"
     ]
    },
    {
     "data": {
      "text/plain": [
       "<keras.callbacks.History at 0x228024ed0b8>"
      ]
     },
     "execution_count": 96,
     "metadata": {},
     "output_type": "execute_result"
    }
   ],
   "source": [
    "cBow.fit(train_x, train_y, batch_size=96, epochs=5)"
   ]
  },
  {
   "cell_type": "code",
   "execution_count": null,
   "metadata": {
    "collapsed": true
   },
   "outputs": [],
   "source": []
  }
 ],
 "metadata": {
  "kernelspec": {
   "display_name": "Python 3",
   "language": "python",
   "name": "python3"
  },
  "language_info": {
   "codemirror_mode": {
    "name": "ipython",
    "version": 3
   },
   "file_extension": ".py",
   "mimetype": "text/x-python",
   "name": "python",
   "nbconvert_exporter": "python",
   "pygments_lexer": "ipython3",
   "version": "3.6.1"
  }
 },
 "nbformat": 4,
 "nbformat_minor": 2
}
